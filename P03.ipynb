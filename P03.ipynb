{
 "cells": [
  {
   "cell_type": "markdown",
   "metadata": {},
   "source": [
    "# Reporte de práctica 3: Estadística descriptiva básica\n",
    "\n",
    "## Objetivos\n",
    "\n",
    "En esta práctica se terminan de limpiar los datos de la práctica anterior, también se realiza la categorización de los datos algunos conteos, promedios y correlaciones.\n",
    "\n",
    "## Limpieza\n",
    "\n",
    "Revisando los CSV de la práctica anterior, se pudo observar que las diferencias ortográficas en los nombres de las columnas me generaban columnas duplicadas y además muchos espacios vacíos, se busca investigar cómo renombrar las columnas de un DataFrame.\n",
    "\n",
    "Primero necesitábamos obtener los nombres de las columnas cargadas al DataFrame, y para eso ocupamos el código:"
   ]
  },
  {
   "cell_type": "code",
   "execution_count": null,
   "metadata": {},
   "outputs": [],
   "source": [
    "list(df2015)\n",
    "list(df2016)\n",
    "list(df2017)\n",
    "list(df2018)"
   ]
  },
  {
   "cell_type": "markdown",
   "metadata": {},
   "source": [
    "Cada línea nos arroja una lista de los nombres de las columnas del DataFrame. Para no tener que unir las columnas, realicé los pasos de la práctica anterior hasta antes de la combinación de los datos, para asegurarse de que todas las columnas se llamen igual y evitar errores. En todos los DataFrame tenemos seis columnas de información que filtramos en la práctica dos, en todos los DataFrame están en el mismo orden, gracias a esto, podemos usar la función set_axis."
   ]
  },
  {
   "cell_type": "code",
   "execution_count": null,
   "metadata": {},
   "outputs": [],
   "source": [
    "df2015.set_axis(['Año','Categoría','País','Género','¿Cómo se enteró?','Referencia Dispositivo'], axis='columns', inplace=True)\n",
    "df2016[0].set_axis(['Año','Categoría','País','Género','¿Cómo se enteró?','Referencia Dispositivo'], axis='columns', inplace=True)\n",
    "df2016[1].set_axis(['Año','Categoría','País','Género','¿Cómo se enteró?','Referencia Dispositivo'], axis='columns', inplace=True)\n",
    "df2016[2].set_axis(['Año','Categoría','País','Género','¿Cómo se enteró?','Referencia Dispositivo'], axis='columns', inplace=True)\n",
    "df2016[3].set_axis(['Año','Categoría','País','Género','¿Cómo se enteró?','Referencia Dispositivo'], axis='columns', inplace=True)\n",
    "df2016[4].set_axis(['Año','Categoría','País','Género','¿Cómo se enteró?','Referencia Dispositivo'], axis='columns', inplace=True)\n",
    "df2017[0].set_axis(['Año','Categoría','País','Género','¿Cómo se enteró?','Referencia Dispositivo'], axis='columns', inplace=True)\n",
    "df2017[1].set_axis(['Año','Categoría','País','Género','¿Cómo se enteró?','Referencia Dispositivo'], axis='columns', inplace=True)\n",
    "df2017[2].set_axis(['Año','Categoría','País','Género','¿Cómo se enteró?','Referencia Dispositivo'], axis='columns', inplace=True)\n",
    "df2017[3].set_axis(['Año','Categoría','País','Género','¿Cómo se enteró?','Referencia Dispositivo'], axis='columns', inplace=True)\n",
    "df2018.set_axis(['Año','Categoría','País','Género','¿Cómo se enteró?','Referencia Dispositivo'], axis='columns', inplace=True)\n",
    "df2018mx.set_axis(['Año','Categoría','País','Género','¿Cómo se enteró?','Referencia Dispositivo'], axis='columns', inplace=True)"
   ]
  },
  {
   "cell_type": "markdown",
   "metadata": {},
   "source": [
    "Ahora podemos proceder a combinar los conjuntos de datos sin tener columnas duplicadas y asegurándonos de que las columnas se llaman igual. \n",
    "Después de usar las funciones para combinarlos y exportar a csv, guardé toda la información en el archivo \"datosLimpiosCine.csv\", y ahora sabemos que tenemos 2735 registros en total.\n",
    "\n",
    "### Corrección de Nombres de Países\n",
    "\n",
    "Al aplicar la función unique() en los nombres de los países, nos damos cuenta que escribieron los nombres en Inglés y Español, además de escribir con puntos y espacios donde no van. Como los datos son muy variados aplique el orden alfabético al array resultado y obtuve un error ya que en el año 2017 ponían en la columna País \"Si\" si era colombiano y \"No\" si no lo era pero como no especificaron el país, puse \"Internacional\", también a la colaboración con Colombia."
   ]
  },
  {
   "cell_type": "code",
   "execution_count": null,
   "metadata": {},
   "outputs": [],
   "source": [
    "array(['Colombia', 'Irán', 'Georgia/Colombia', 'España', 'Venezuela',\n",
    "       'México', 'Ecuador', 'Francia', 'Argentina', 'Perú',\n",
    "       'Estados Unidos', nan, 'Canadá', 'Honduras', 'Brasil', 'Cuba',\n",
    "       'Uruguay', 'Alemania', 'COLOMBIA', 'colombia', 'bogota',\n",
    "       'colombia y mexico', 'Bogota', 'Colombia.', 'Marruecos',\n",
    "       'COLO MBIA', 'República de Colombia', 'colombia ,',\n",
    "       'Colombia, Brasil y Panamá', 'Republica Dominicana', 'Colomba',\n",
    "       'Â´Colombia', 'Venezuela/Colombia', 'francia', 'colomBIA',\n",
    "       'Brazil', 'Belgium', 'Canada', 'Colombia - China',\n",
    "       'Colombia - Estados Unidos', 'Antioquia,', 'Si', 'No', '1',\n",
    "       'Afganistán', 'Comoras', 'Afganistan', 'Spain', 'Mexico',\n",
    "       'United States of America', 'Comoros'], dtype=object)"
   ]
  },
  {
   "cell_type": "markdown",
   "metadata": {},
   "source": [
    "Resultados después de la limpieza:"
   ]
  },
  {
   "cell_type": "code",
   "execution_count": null,
   "metadata": {},
   "outputs": [],
   "source": [
    "array(['Colombia', 'Irán', 'España', 'Venezuela', 'México', 'Ecuador',\n",
    "       'Francia', 'Argentina', 'Perú', 'Estados Unidos', nan, 'Canadá',\n",
    "       'Honduras', 'Brasil', 'Cuba', 'Uruguay', 'Alemania',\n",
    "       'Internacional', 'Marruecos', 'Republica Dominicana', 'Bélgica',\n",
    "       'Afganistán', 'Comoras'], dtype=object)"
   ]
  },
  {
   "cell_type": "markdown",
   "metadata": {},
   "source": [
    "Todas estas modificaciones las realicé en una columna nueva basada en \"País\", llamada \"Países\", para no arruinar la información y tener que volver a empezar si me equivocaba en algo. También limpiamos las categorías y pasamos de esto:"
   ]
  },
  {
   "cell_type": "code",
   "execution_count": null,
   "metadata": {},
   "outputs": [],
   "source": [
    "array(['Aficionado', 'Profesional', 'Infantil', nan, 'Juvenil', 'SmarTIC',\n",
    "       'AFICIONADO', 'CRONICAS', 'JUVENIL', 'FAMILIAR',\n",
    "       'SMARTIC INCLUYENTE', 'PROFESIONAL', 'HORROR', 'HUMOR'],\n",
    "      dtype=object)"
   ]
  },
  {
   "cell_type": "markdown",
   "metadata": {},
   "source": [
    "Debido a que en México confundieron el concepto de categoría con género del corto, reemplacé los valores por una categoría llamada \"nan\" que es mejor que inventar una categoría. Y pasamos a esto:"
   ]
  },
  {
   "cell_type": "code",
   "execution_count": null,
   "metadata": {},
   "outputs": [],
   "source": [
    "array(['Aficionado', 'Profesional', 'Infantil', nan, 'Juvenil', 'SmarTIC'],\n",
    "      dtype=object)"
   ]
  },
  {
   "cell_type": "markdown",
   "metadata": {},
   "source": [
    "Aprovechando que son los campos con menos errores, también limpiamos el campo de ¿Cómo se enteró? y pasamos de esto:"
   ]
  },
  {
   "cell_type": "code",
   "execution_count": null,
   "metadata": {},
   "outputs": [],
   "source": [
    "array(['Convocatoria', 'tv', 'internet', 'amigo', 'Amigo', 'Internet',\n",
    "       'redes', nan, 'prensa', 'Prensa', 'TV', 'Redes', 'radio', 'Radio',\n",
    "       'blanco', 'MSM', 'Redes sociales', 'Un(a) amigo(a) me contó',\n",
    "       'Televisión', 'TelevisiÃ³n', 'Un(a) amigo(a) me contÃ³',\n",
    "       'Mensaje de texto', 'Otra'], dtype=object)"
   ]
  },
  {
   "cell_type": "markdown",
   "metadata": {},
   "source": [
    "A esto:"
   ]
  },
  {
   "cell_type": "code",
   "execution_count": null,
   "metadata": {},
   "outputs": [],
   "source": [
    "array(['Convocatoria', 'Televisión', 'Internet', 'Amigo',\n",
    "       'Redes Sociales', nan, 'Prensa', 'Radio', 'Otra',\n",
    "       'Mensaje de texto'], dtype=object)"
   ]
  },
  {
   "cell_type": "markdown",
   "metadata": {},
   "source": [
    "Toda la información corregida la realice usando el comando replace con el siguiente formato:"
   ]
  },
  {
   "cell_type": "code",
   "execution_count": null,
   "metadata": {},
   "outputs": [],
   "source": [
    "dataframe['columnatemporal'] = dataframe.NombreColumna.replace('Ruido','DatoCoherente')"
   ]
  },
  {
   "cell_type": "markdown",
   "metadata": {},
   "source": [
    "Como se podrá observar en los arreglos iniciales y como terminaron eliminando ruido, la cantidad de veces que ejecuté la función replace fueron muchas y no las alcancé a documentar, pero pueden darse una idea de como y cuantas veces lo utilice. Al final, después de asegurarse que los datos estaban correctos, reemplacé la columna original con los valores de la columna temporal.\n",
    "\n",
    "También hice un segundo backup de los datos."
   ]
  },
  {
   "cell_type": "code",
   "execution_count": null,
   "metadata": {},
   "outputs": [],
   "source": [
    "cine.to_csv('datosLimpiosCine2.csv', sep='\\\\', index=False)"
   ]
  },
  {
   "cell_type": "markdown",
   "metadata": {},
   "source": [
    "## Conteo y Promedio\n",
    "Ahora la información que tenemos limpia es:\n",
    "* Año\n",
    "* País\n",
    "* Categoría\n",
    "* ¿Cómo se enteró?\n",
    "\n",
    "Primero decidí instalar la librería \"tabulate\" de Python para obtener resultados ordenados en tablas agradables a la vista. Después corrí el siguiente script para obtener la información de la participación de países divididos por año."
   ]
  },
  {
   "cell_type": "code",
   "execution_count": null,
   "metadata": {},
   "outputs": [],
   "source": [
    "listaPaises = []\n",
    "for country in paises:\n",
    "    listaPaises.append(country,cine[(cine['País']==country) & (cine['Año']==2015)].count()['Año'],cine[(cine['País']==country) & (cine['Año']==2016)].count()['Año'],cine[(cine['País']==country) & (cine['Año']==2017)].count()['Año'],cine[(cine['País']==country) & (cine['Año']==2018)].count()['Año'],cine[cine['País']==country].count()['Año'], sep='\\t')\n",
    "print(tabulate(listaPaises, tablefmt=\"github\"))"
   ]
  },
  {
   "cell_type": "markdown",
   "metadata": {},
   "source": [
    "Utilicé el count()\\['Año' \\] debido a que es el único campo que no tiene NaN y me da un conteo exacto de los registros, pareciera que el contador no funcionó con los NaN por que me arrojó ceros y la cantidad de registros bajó a 2732. Obtuve estos resultados:"
   ]
  },
  {
   "cell_type": "code",
   "execution_count": null,
   "metadata": {},
   "outputs": [],
   "source": [
    "| País                 |2015 |2016 |2017 |2018 |Total |\n",
    "|----------------------|-----|-----|-----|-----|------|\n",
    "| Colombia             | 477 | 846 | 641 | 438 | 2402 |\n",
    "| Irán                 |   1 |   0 |   0 |   0 |    1 |\n",
    "| España               |  26 |  17 |   1 |   6 |   50 |\n",
    "| Venezuela            |   5 |   1 |   1 |   0 |    7 |\n",
    "| México               |   8 |   3 |   2 | 171 |  184 |\n",
    "| Ecuador              |   2 |   3 |   0 |   1 |    6 |\n",
    "| Francia              |   2 |   1 |   0 |   0 |    3 |\n",
    "| Argentina            |   1 |   4 |   3 |   1 |    9 |\n",
    "| Perú                 |   1 |   0 |   0 |   0 |    1 |\n",
    "| Estados Unidos       |   3 |   4 |   3 |   3 |   13 |\n",
    "| nan                  |   0 |   2 |   0 |   1 |    3 |\n",
    "| Canadá               |   1 |   1 |   0 |   0 |    2 |\n",
    "| Honduras             |   1 |   0 |   0 |   0 |    1 |\n",
    "| Brasil               |   5 |   1 |   0 |   0 |    6 |\n",
    "| Cuba                 |   1 |   0 |   0 |   0 |    1 |\n",
    "| Uruguay              |   2 |   1 |   0 |   0 |    3 |\n",
    "| Alemania             |   1 |   1 |   0 |   0 |    2 |\n",
    "| Internacional        |   0 |   5 |  11 |   0 |   16 |\n",
    "| Marruecos            |   0 |   1 |   0 |   0 |    1 |\n",
    "| Republica Dominicana |   0 |   1 |   0 |   0 |    1 |\n",
    "| Bélgica              |   0 |   1 |   0 |   1 |    2 |\n",
    "| Afganistán           |   0 |   0 |  19 |   0 |   19 |\n",
    "| Comoras              |   0 |   0 |   1 |   1 |    2 |\n",
    "|----------------------|-----|-----|-----|-----|------|\n",
    "| Suma                 | 537 | 893 | 682 | 623 | 2735 |"
   ]
  },
  {
   "cell_type": "markdown",
   "metadata": {},
   "source": [
    "Usé también un script para obtener los registros por Categoría y participación por Año. El código fue el siguiente:"
   ]
  },
  {
   "cell_type": "code",
   "execution_count": null,
   "metadata": {},
   "outputs": [],
   "source": [
    "listaCategoria = []\n",
    ">>> for contry in categorias:\n",
    "...    listaCategoria.append([contry,cine[(cine['Categoría']==contry) & (cine['Año']==2015)].count()['Año'],cine[(cine['Categoría']==contry) & (cine['Año']==2016)].count()['Año'],cine[(cine['Categoría']==contry) & (cine['Año']==2017)].count()['Año'],cine[(cine['Categoría']==contry) & (cine['Año']==2018)].count()['Año'],cine[cine['Categoría']==contry].count()['Año']])\n",
    "... \n",
    ">>> print(tabulate(listaCategoria, tablefmt=\"github\"))"
   ]
  },
  {
   "cell_type": "markdown",
   "metadata": {},
   "source": [
    "Me di cuenta que efectivamente el NaN no es contado por mi código, me doy cuenta de ésto, debido a que en 2017 tengo varios elementos que yo mismo convertí a NaN porque al momento de capturar la Categoría en México cometieron el error de escribir el Género del video, comprobé que en 2016 me hacen falta 2 video en NaN la tabla anterior y en ésta me hacen falta 165 registros en NaN. Obtuve los siguientes resultados:"
   ]
  },
  {
   "cell_type": "code",
   "execution_count": null,
   "metadata": {},
   "outputs": [],
   "source": [
    "| Categoría   |2015 |2016 |2017 |2018 |Total |\n",
    "|-------------|-----|-----|-----|-----|------|\n",
    "| Aficionado  | 313 | 522 | 377 | 241 | 1453 |\n",
    "| Profesional | 147 | 151 |  85 |  53 |  436 |\n",
    "| Infantil    |  77 |  42 |   0 |   0 |  119 |\n",
    "| nan         |   0 |   0 |   0 | 165 |    0 |\n",
    "| Juvenil     |   0 | 123 | 132 |  83 |  338 |\n",
    "| SmarTIC     |   0 |  55 |  88 |  81 |  224 |\n",
    "|-------------|-----|-----|-----|-----|------|\n",
    "| Suma        | 537 | 893 | 682 | 623 | 2735 |"
   ]
  },
  {
   "cell_type": "markdown",
   "metadata": {},
   "source": [
    "## Conclusiones\n",
    "En esta práctica me topé con que se pudo mejorar la limpieza de la práctica pasada. Aprendí a identificar escrituras únicas con la función unique() y a reemplazar string dentro de los DataFrame con la función replace(), reemplacé los nombres de las columnas de todos los DataFrames antes de unirlos y además me di cuenta que era innecesario el DataFrames df2017[4] debido a que solo fue un evento de \"Reto al Guion\" no había referencia de videos ni de categorías, nada que lo relaciona a las otras tablas de registros.\n",
    "\n",
    "A los datos les realicé 2 backups, uno después de la limpieza y el otro después de reemplazar el ruido en los campos.\n",
    "\n",
    "Busqué la forma de sacar promedios y realizar correlaciones, pero en la práctica la Dra. Elisa dijo: \"Todas las respuestas abiertas de texto quedan fuera del alcance de esta práctica.\" Y en mis datos todo, salvo el año, son categorías de texto. Así que doy por concluida mi práctica.\n",
    "\n",
    "--18 de febrero 2019-- Luis Angel Gutierrez Rodríguez 1484412"
   ]
  }
 ],
 "metadata": {
  "kernelspec": {
   "display_name": "Python 3",
   "language": "python",
   "name": "python3"
  },
  "language_info": {
   "codemirror_mode": {
    "name": "ipython",
    "version": 3
   },
   "file_extension": ".py",
   "mimetype": "text/x-python",
   "name": "python",
   "nbconvert_exporter": "python",
   "pygments_lexer": "ipython3",
   "version": "3.6.7"
  }
 },
 "nbformat": 4,
 "nbformat_minor": 2
}
