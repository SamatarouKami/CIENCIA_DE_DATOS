{
 "cells": [
  {
   "cell_type": "markdown",
   "metadata": {},
   "source": [
    "# Reporte de práctica 8: Análisis de varianza y de componentes principales\n",
    "\n",
    "En esta práctica haremos análisis de varianza(ANOVA) a los datos de las prácticas anteriores.\n",
    "\n",
    "## Objetivo\n",
    "\n",
    "- Realizar un análisis de varianza (ANOVA)\n",
    "- Realizar un análisis de componentes principales (PCA)\n",
    "\n",
    "### Lectura de datos\n",
    "\n",
    "Se procede a abrir los datos de la práctica anterior."
   ]
  },
  {
   "cell_type": "code",
   "execution_count": 1,
   "metadata": {},
   "outputs": [
    {
     "name": "stdout",
     "output_type": "stream",
     "text": [
      "266\n"
     ]
    }
   ],
   "source": [
    "import statsmodels.api as sm\n",
    "from numpy import isnan\n",
    "import pandas as pd\n",
    "cine = pd.read_excel('https://raw.githubusercontent.com/SamatarouKami/CIENCIA_DE_DATOS/master/2018.xlsx', index_col=None, header=0, sheet_name=0)\n",
    "cine = cine[['Categoria','Edad','Pais', 'Titulo','Genero', 'Duracion', 'Marca','Referencia','Dias','Marcas','Personas','Sinopsis']]\n",
    "\n",
    "cine = cine.dropna()\n",
    "\n",
    "print(len(cine))"
   ]
  },
  {
   "cell_type": "markdown",
   "metadata": {},
   "source": [
    "## ANOVA\n",
    "\n",
    "El Análisis de varianza (ANOVA) es una herramienta para cuantificar sí o no una variable o factor tiene un efecto estadísticamente significativo en una variable de interés. Se realiza a partir de la salida del modelo de regresión que se obtiene con otra versión de ols.\n",
    "\n",
    "Hay tres tipos de ANOVA, cuyo uso depende de sí o no se espera contar con interacciones entre las variables de entrada y sí o lo los datos son balanceados.\n",
    "\n",
    "La hipótesis nula en ANOVA es que no haya diferencias; si el valor p de una variable es menor a la significación establecida (para nosotros 0.05 está bien; con muchos datos muy precisos es mejor usar 0.01), entonces se rechaza la hipótesis nula, concluyendo que esa variable sí tiene un efecto estadísticamente significativo.\n",
    "\n",
    "\n",
    "Se analiza si las personas están relacionadas con la categoría, género y los días de grabación del filme."
   ]
  },
  {
   "cell_type": "code",
   "execution_count": 2,
   "metadata": {},
   "outputs": [
    {
     "name": "stdout",
     "output_type": "stream",
     "text": [
      "                 sum_sq     df         F        PR(>F)\n",
      "Categoria   2281.950763    5.0  8.659926  1.366205e-07\n",
      "Genero       320.198519    8.0  0.759464  6.388620e-01\n",
      "Dias         205.450311    1.0  3.898385  4.942439e-02\n",
      "Residual   13280.751254  252.0       NaN           NaN\n",
      "Categoria es significativo\n",
      "Genero NO es significativo\n",
      "Dias es significativo\n",
      "Residual NO es significativo\n"
     ]
    }
   ],
   "source": [
    "from statsmodels.formula.api import ols\n",
    "import statsmodels.api as sm\n",
    "\n",
    "m = ols('Personas ~ Categoria + Genero + Dias', data = cine).fit() \n",
    "a = sm.stats.anova_lm(m, typ = 2)\n",
    "print(a)\n",
    "n = len(a)\n",
    "alpha = 0.05\n",
    "for i in range(n):\n",
    "    print(\"{:s} {:s}es significativo\".format(a.index[i], \"\" if a['PR(>F)'][i] < alpha else \"NO \"))"
   ]
  },
  {
   "cell_type": "markdown",
   "metadata": {},
   "source": [
    "Podemos ver que los días y categoría si son significativos, pero el residual es muy grande. Agreguemos el factor  \"Duración\" para ver su interacción con estos factores."
   ]
  },
  {
   "cell_type": "code",
   "execution_count": 3,
   "metadata": {},
   "outputs": [
    {
     "name": "stdout",
     "output_type": "stream",
     "text": [
      "                          sum_sq     df          F        PR(>F)\n",
      "Categoria            2204.147359    5.0   8.696252  1.371812e-07\n",
      "Genero                292.599339    8.0   0.721514  6.724490e-01\n",
      "Duracion              703.101072    1.0  13.870089  2.446383e-04\n",
      "Categoria:Duracion    203.155195    5.0   0.801529  5.495267e-01\n",
      "Genero:Duracion       364.989594    8.0   0.900020  5.171006e-01\n",
      "Dias                  237.026122    1.0   4.675819  3.158689e-02\n",
      "Dias:Duracion          33.485104    1.0   0.660561  4.171741e-01\n",
      "Residual            12064.670548  238.0        NaN           NaN\n",
      "Categoria es significativo\n",
      "Genero NO es significativo\n",
      "Duracion es significativo\n",
      "Categoria:Duracion NO es significativo\n",
      "Genero:Duracion NO es significativo\n",
      "Dias es significativo\n",
      "Dias:Duracion NO es significativo\n",
      "Residual NO es significativo\n"
     ]
    }
   ],
   "source": [
    "from statsmodels.formula.api import ols\n",
    "import statsmodels.api as sm\n",
    "\n",
    "m = ols('Personas ~ Categoria  * Duracion + Genero * Duracion + Dias * Duracion ', data = cine).fit() \n",
    "a = sm.stats.anova_lm(m, typ = 2)\n",
    "print(a)\n",
    "n = len(a)\n",
    "alpha = 0.05\n",
    "for i in range(n):\n",
    "    print(\"{:s} {:s}es significativo\".format(a.index[i], \"\" if a['PR(>F)'][i] < alpha else \"NO \"))"
   ]
  },
  {
   "cell_type": "markdown",
   "metadata": {},
   "source": [
    "Ahora la Duración tomó significación. Lo único significativo, sin interacciones, siguen siendo Categoría y Días. Revisemos por las interacciones."
   ]
  },
  {
   "cell_type": "code",
   "execution_count": 4,
   "metadata": {},
   "outputs": [
    {
     "name": "stdout",
     "output_type": "stream",
     "text": [
      "                          sum_sq     df          F        PR(>F)\n",
      "Categoria            2611.588301    5.0  10.456200  4.079372e-09\n",
      "Dias                  270.898309    1.0   5.423073  2.067991e-02\n",
      "Categoria:Dias        319.177406    5.0   1.277913  2.739514e-01\n",
      "Duracion              684.351795    1.0  13.699938  2.644666e-04\n",
      "Duracion:Categoria    135.880382    5.0   0.544034  7.428013e-01\n",
      "Dias:Duracion           0.926056    1.0   0.018539  8.918085e-01\n",
      "Residual            12338.369436  247.0        NaN           NaN\n",
      "Categoria es significativo\n",
      "Dias es significativo\n",
      "Categoria:Dias NO es significativo\n",
      "Duracion es significativo\n",
      "Duracion:Categoria NO es significativo\n",
      "Dias:Duracion NO es significativo\n",
      "Residual NO es significativo\n"
     ]
    }
   ],
   "source": [
    "m = ols('Personas ~ Categoria  * Dias + Dias * Duracion + Duracion * Categoria', data = cine).fit() \n",
    "a = sm.stats.anova_lm(m, typ = 2)\n",
    "print(a)\n",
    "n = len(a)\n",
    "alpha = 0.05\n",
    "for i in range(n):\n",
    "    print(\"{:s} {:s}es significativo\".format(a.index[i], \"\" if a['PR(>F)'][i] < alpha else \"NO \"))"
   ]
  },
  {
   "cell_type": "markdown",
   "metadata": {},
   "source": [
    "Se puede observar que a pesar de ser significativas independientemente, al interactuar no significan nada.\n",
    "\n",
    "## PCA\n",
    "\n",
    "El [análisis de componentes principales (PCA)](https://towardsdatascience.com/pca-using-python-scikit-learn-e653f8989e60) sirve para reducir múltiples variable de entrada en una menor cantidad de variables para modelar la variable de interés. Funciona con datos numéricos que primero se normalizan y luego se proyectan a una dimensión deseada.\n",
    "\n",
    "Se aplica un PCA sobre los datos, \n",
    "\n",
    "    * Primero nos deshacemos de las columnas que no conviene codificar con números.\n",
    "    * Luego categorizamos las que sí convienen.\n",
    "    * Las reemplazamos con los números de las categorías.\n",
    "    * Estandarizamos rangos.\n",
    "    * Probamos reducción proyectando los datos a dos dimensiones.\n",
    "    * Visualizamos el resultado.\n"
   ]
  },
  {
   "cell_type": "code",
   "execution_count": 5,
   "metadata": {},
   "outputs": [
    {
     "name": "stdout",
     "output_type": "stream",
     "text": [
      "Qué tenemos\n",
      "Index(['Categoria', 'Edad', 'Pais', 'Titulo', 'Genero', 'Duracion', 'Marca',\n",
      "       'Referencia', 'Dias', 'Marcas', 'Personas', 'Sinopsis'],\n",
      "      dtype='object')\n"
     ]
    },
    {
     "data": {
      "text/html": [
       "<div>\n",
       "<style scoped>\n",
       "    .dataframe tbody tr th:only-of-type {\n",
       "        vertical-align: middle;\n",
       "    }\n",
       "\n",
       "    .dataframe tbody tr th {\n",
       "        vertical-align: top;\n",
       "    }\n",
       "\n",
       "    .dataframe thead th {\n",
       "        text-align: right;\n",
       "    }\n",
       "</style>\n",
       "<table border=\"1\" class=\"dataframe\">\n",
       "  <thead>\n",
       "    <tr style=\"text-align: right;\">\n",
       "      <th></th>\n",
       "      <th>comp_0</th>\n",
       "      <th>comp_1</th>\n",
       "      <th>Personas</th>\n",
       "      <th>Dias</th>\n",
       "    </tr>\n",
       "  </thead>\n",
       "  <tbody>\n",
       "    <tr>\n",
       "      <th>0</th>\n",
       "      <td>-0.093040</td>\n",
       "      <td>0.634029</td>\n",
       "      <td>4</td>\n",
       "      <td>7</td>\n",
       "    </tr>\n",
       "    <tr>\n",
       "      <th>1</th>\n",
       "      <td>-0.330257</td>\n",
       "      <td>1.187852</td>\n",
       "      <td>7</td>\n",
       "      <td>8</td>\n",
       "    </tr>\n",
       "    <tr>\n",
       "      <th>2</th>\n",
       "      <td>-0.383991</td>\n",
       "      <td>1.564923</td>\n",
       "      <td>11</td>\n",
       "      <td>16</td>\n",
       "    </tr>\n",
       "    <tr>\n",
       "      <th>3</th>\n",
       "      <td>0.038034</td>\n",
       "      <td>-1.231784</td>\n",
       "      <td>5</td>\n",
       "      <td>3</td>\n",
       "    </tr>\n",
       "    <tr>\n",
       "      <th>4</th>\n",
       "      <td>-0.086769</td>\n",
       "      <td>0.520188</td>\n",
       "      <td>13</td>\n",
       "      <td>90</td>\n",
       "    </tr>\n",
       "    <tr>\n",
       "      <th>5</th>\n",
       "      <td>-0.262758</td>\n",
       "      <td>1.181875</td>\n",
       "      <td>12</td>\n",
       "      <td>30</td>\n",
       "    </tr>\n",
       "    <tr>\n",
       "      <th>6</th>\n",
       "      <td>-0.269580</td>\n",
       "      <td>0.902898</td>\n",
       "      <td>6</td>\n",
       "      <td>5</td>\n",
       "    </tr>\n",
       "    <tr>\n",
       "      <th>7</th>\n",
       "      <td>-0.035894</td>\n",
       "      <td>-1.288132</td>\n",
       "      <td>1</td>\n",
       "      <td>7</td>\n",
       "    </tr>\n",
       "    <tr>\n",
       "      <th>8</th>\n",
       "      <td>0.061712</td>\n",
       "      <td>-1.343304</td>\n",
       "      <td>16</td>\n",
       "      <td>10</td>\n",
       "    </tr>\n",
       "    <tr>\n",
       "      <th>9</th>\n",
       "      <td>-0.078685</td>\n",
       "      <td>0.582270</td>\n",
       "      <td>9</td>\n",
       "      <td>20</td>\n",
       "    </tr>\n",
       "  </tbody>\n",
       "</table>\n",
       "</div>"
      ],
      "text/plain": [
       "     comp_0    comp_1  Personas  Dias\n",
       "0 -0.093040  0.634029         4     7\n",
       "1 -0.330257  1.187852         7     8\n",
       "2 -0.383991  1.564923        11    16\n",
       "3  0.038034 -1.231784         5     3\n",
       "4 -0.086769  0.520188        13    90\n",
       "5 -0.262758  1.181875        12    30\n",
       "6 -0.269580  0.902898         6     5\n",
       "7 -0.035894 -1.288132         1     7\n",
       "8  0.061712 -1.343304        16    10\n",
       "9 -0.078685  0.582270         9    20"
      ]
     },
     "metadata": {},
     "output_type": "display_data"
    }
   ],
   "source": [
    "from sklearn.decomposition import PCA\n",
    "from sklearn.preprocessing import StandardScaler\n",
    "\n",
    "print('Qué tenemos')\n",
    "print(cine.columns)\n",
    "      \n",
    "xVars = ['Edad','Duracion', 'Marcas', 'Categoria']\n",
    "\n",
    "cat = pd.Categorical(cine.Categoria)\n",
    "cine['Categoria'] = cat.codes\n",
    "\n",
    "#print(cine.Personas.mean())\n",
    "#print(cine.Dias.mean())\n",
    "\n",
    "#d.CF2op = d.CF2op.replace(nan, 0) # para no perder a los que pasaron en primera\n",
    "#d = d.dropna() # podemos únicamente usar los renglones que contienen todas las respuestas\n",
    "d = cine\n",
    "d = d.dropna()\n",
    "x = d.loc[:, xVars].values\n",
    "x = StandardScaler().fit_transform(x)\n",
    "y1 = d.loc[:,['Personas']].values\n",
    "y2 = d.loc[:,['Dias']].values\n",
    "k = 2 # dimensiones deseadas\n",
    "pca = PCA(n_components = k)\n",
    "cd = pd.DataFrame(data = pca.fit_transform(x), columns = ['comp_{:d}'.format(i) for i in range(k)])\n",
    "cd['Personas'] = y1\n",
    "cd['Dias'] = y2\n",
    "ordenado = pd.DataFrame.sort_values(cd, ['Personas'], ascending = False)\n",
    "display(cd.head(10))\n",
    "\n"
   ]
  },
  {
   "cell_type": "code",
   "execution_count": 6,
   "metadata": {},
   "outputs": [
    {
     "data": {
      "image/png": "[encoded data removed]",
      "text/plain": [
       "<Figure size 432x288 with 1 Axes>"
      ]
     },
     "metadata": {
      "needs_background": "light"
     },
     "output_type": "display_data"
    }
   ],
   "source": [
    "import matplotlib.pyplot as plt\n",
    "                                                                                                                  \n",
    "d = cd\n",
    "n = len(d)\n",
    "pri = d.Personas >= 10\n",
    "seg = d.Dias >= 28\n",
    "#ter = ~ (pri | seg)\n",
    "n == sum(pri) + sum(seg) #+ sum(ter)\n",
    "\n",
    "#print(sum(pri), sum(seg), sum(ter))\n",
    "\n",
    "plt.title('PCA bidimensional', fontsize = 20)\n",
    "plt.xlabel('Primer componente', fontsize = 15)\n",
    "plt.ylabel('Segundo componente', fontsize = 15)\n",
    "plt.scatter(d.loc[pri].comp_0, d.loc[pri].comp_1, c = 'r', s = 50)\n",
    "plt.scatter(d.loc[seg].comp_0, d.loc[seg].comp_1, c = 'b', s = 50)\n",
    "#plt.scatter(d.loc[ter].comp_0, d.loc[ter].comp_1, c = 'r', s = 50)\n",
    "plt.legend(['Personas', 'Dias'])\n",
    "plt.grid()"
   ]
  },
  {
   "cell_type": "markdown",
   "metadata": {},
   "source": [
    "## Conclusión\n",
    "\n",
    "En ANOVA se pudo observar que aunque individualmente los datos sean significativos, cuando interactúan no lo son. En el PCA se modeló en para las variables Personas y Días en función de la Edad del participante, la duración y categoría del filme y las marcas de grabación. Con esta información disponible, en dos dimensiones, no se pueden separar los la cantidad de personas con los días de grabación.\n",
    "\n",
    "--05 de junio 2019-- Luis Angel Gutiérrez Rodríguez 1484412"
   ]
  }
 ],
 "metadata": {
  "kernelspec": {
   "display_name": "Python 3",
   "language": "python",
   "name": "python3"
  },
  "language_info": {
   "codemirror_mode": {
    "name": "ipython",
    "version": 2
   },
   "file_extension": ".py",
   "mimetype": "text/x-python",
   "name": "python",
   "nbconvert_exporter": "python",
   "pygments_lexer": "ipython2",
   "version": "2.7.15rc1"
  }
 },
 "nbformat": 4,
 "nbformat_minor": 2
}
