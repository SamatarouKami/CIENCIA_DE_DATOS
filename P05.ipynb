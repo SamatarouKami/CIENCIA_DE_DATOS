{
 "cells": [
  {
   "cell_type": "markdown",
   "metadata": {},
   "source": [
    "# Reporte de Práctica 5: Pruebas estadísticas\n",
    "\n",
    "En ésta práctica se realizarán 3 análisis estadisticos a los datos del cine. Primero realizaremos histogramas de la información para observar su comportamiento si es normalizado o no.\n",
    "\n",
    "Como se harán gráficas de los datos, se instaló la libreria Plotly de python3 para hacer esta tarea, debido a que es una liberia de pago, se creó una cuenta gratuita en la cual estamos limitados a 25 gráficas.\n",
    "\n",
    "Despues de esto importamos el .csv donde guardamos la información de la práctica 3 y tuve muchos problemas para instalar plotly en jupyter notebook."
   ]
  },
  {
   "cell_type": "code",
   "execution_count": 5,
   "metadata": {},
   "outputs": [],
   "source": [
    "import plotly\n",
    "plotly.tools.set_credentials_file(username='SamatarouKami', api_key='X0OGa3VP5G6DWcfBivYa')"
   ]
  },
  {
   "cell_type": "code",
   "execution_count": 6,
   "metadata": {},
   "outputs": [
    {
     "name": "stderr",
     "output_type": "stream",
     "text": [
      "/home/z230/.local/lib/python3.6/site-packages/IPython/core/display.py:689: UserWarning:\n",
      "\n",
      "Consider using IPython.display.IFrame instead\n",
      "\n"
     ]
    },
    {
     "data": {
      "text/html": [
       "<iframe id=\"igraph\" scrolling=\"no\" style=\"border:none;\" seamless=\"seamless\" src=\"https://plot.ly/~SamatarouKami/10.embed\" height=\"525px\" width=\"100%\"></iframe>"
      ],
      "text/plain": [
       "<chart_studio.tools.PlotlyDisplay object>"
      ]
     },
     "execution_count": 6,
     "metadata": {},
     "output_type": "execute_result"
    }
   ],
   "source": [
    "import plotly.plotly as py\n",
    "import plotly.graph_objs as go\n",
    "import pandas as pd\n",
    "cine = pd.read_csv('https://raw.githubusercontent.com/SamatarouKami/CIENCIA_DE_DATOS/master/old/datosLimpiosCine2.csv', sep='\\\\')\n",
    "ext = cine.Pais[cine.Pais!='Colombia']\n",
    "py.iplot({'data': [go.Histogram(x = ext, histnorm='probability')]}, filename='extranjeros')"
   ]
  },
  {
   "cell_type": "markdown",
   "metadata": {},
   "source": [
    "Se supone que aqui arriba hay un gráfico.\n",
    "Así generamos el histograma de la cantidad de paises extranjeros que participaron."
   ]
  },
  {
   "cell_type": "code",
   "execution_count": 5,
   "metadata": {},
   "outputs": [
    {
     "name": "stdout",
     "output_type": "stream",
     "text": [
      "\u001b[33mDEPRECATION: Python 2.7 will reach the end of its life on January 1st, 2020. Please upgrade your Python as Python 2.7 won't be maintained after that date. A future version of pip will drop support for Python 2.7.\u001b[0m\n",
      "Collecting statsmodels\n",
      "\u001b[?25l  Downloading https://files.pythonhosted.org/packages/ed/56/a1d32debdaba5cc7986aeeeb79e33d74ae3394eabfd008b0113368b91981/statsmodels-0.9.0-cp27-cp27mu-manylinux1_x86_64.whl (7.4MB)\n",
      "\u001b[K    100% |████████████████████████████████| 7.4MB 1.1MB/s ta 0:00:01\n",
      "\u001b[?25hRequirement already satisfied: pandas in /home/samataroukami/.local/lib/python2.7/site-packages (from statsmodels) (0.24.1)\n",
      "Collecting patsy (from statsmodels)\n",
      "  Using cached https://files.pythonhosted.org/packages/ea/0c/5f61f1a3d4385d6bf83b83ea495068857ff8dfb89e74824c6e9eb63286d8/patsy-0.5.1-py2.py3-none-any.whl\n",
      "Requirement already satisfied: numpy>=1.12.0 in /home/samataroukami/.local/lib/python2.7/site-packages (from pandas->statsmodels) (1.16.1)\n",
      "Requirement already satisfied: pytz>=2011k in /home/samataroukami/.local/lib/python2.7/site-packages (from pandas->statsmodels) (2018.9)\n",
      "Requirement already satisfied: python-dateutil>=2.5.0 in /home/samataroukami/.local/lib/python2.7/site-packages (from pandas->statsmodels) (2.8.0)\n",
      "Requirement already satisfied: six in /home/samataroukami/.local/lib/python2.7/site-packages (from patsy->statsmodels) (1.11.0)\n",
      "Installing collected packages: patsy, statsmodels\n",
      "Successfully installed patsy-0.5.1 statsmodels-0.9.0\n"
     ]
    }
   ],
   "source": [
    "!python -m pip install statsmodels --user"
   ]
  },
  {
   "cell_type": "code",
   "execution_count": 10,
   "metadata": {},
   "outputs": [
    {
     "name": "stdout",
     "output_type": "stream",
     "text": [
      "20                Irán\n",
      "23              España\n",
      "26              España\n",
      "53              España\n",
      "55              España\n",
      "66              España\n",
      "73           Venezuela\n",
      "87              España\n",
      "114             México\n",
      "137            Ecuador\n",
      "145             España\n",
      "150             México\n",
      "164             España\n",
      "170            Francia\n",
      "180          Venezuela\n",
      "189          Venezuela\n",
      "217             México\n",
      "247          Argentina\n",
      "248             México\n",
      "250             México\n",
      "251             México\n",
      "260             México\n",
      "273             España\n",
      "274             España\n",
      "280               Perú\n",
      "288     Estados Unidos\n",
      "289             España\n",
      "290             España\n",
      "295             España\n",
      "306             España\n",
      "             ...      \n",
      "2705            México\n",
      "2706            México\n",
      "2707            México\n",
      "2708            México\n",
      "2709            México\n",
      "2710            México\n",
      "2711            México\n",
      "2712            México\n",
      "2713            México\n",
      "2714            México\n",
      "2715            México\n",
      "2716            México\n",
      "2717            México\n",
      "2718            México\n",
      "2719            México\n",
      "2720            México\n",
      "2721            México\n",
      "2722            México\n",
      "2723            México\n",
      "2724            México\n",
      "2725            México\n",
      "2726            México\n",
      "2727            México\n",
      "2728            México\n",
      "2729            México\n",
      "2730            México\n",
      "2731            México\n",
      "2732            México\n",
      "2733            México\n",
      "2734            México\n",
      "Name: Pais, Length: 333, dtype: object\n"
     ]
    },
    {
     "ename": "TypeError",
     "evalue": "cannot concatenate 'str' and 'float' objects",
     "output_type": "error",
     "traceback": [
      "\u001b[0;31m---------------------------------------------------------------------------\u001b[0m",
      "\u001b[0;31mTypeError\u001b[0m                                 Traceback (most recent call last)",
      "\u001b[0;32m<ipython-input-10-90816b702168>\u001b[0m in \u001b[0;36m<module>\u001b[0;34m()\u001b[0m\n\u001b[1;32m     10\u001b[0m \u001b[0;34m\u001b[0m\u001b[0m\n\u001b[1;32m     11\u001b[0m \u001b[0;34m\u001b[0m\u001b[0m\n\u001b[0;32m---> 12\u001b[0;31m \u001b[0mf\u001b[0m \u001b[0;34m=\u001b[0m \u001b[0mqqplot\u001b[0m\u001b[0;34m(\u001b[0m\u001b[0mext\u001b[0m\u001b[0;34m,\u001b[0m \u001b[0mline\u001b[0m\u001b[0;34m=\u001b[0m\u001b[0;34m's'\u001b[0m\u001b[0;34m)\u001b[0m\u001b[0;34m\u001b[0m\u001b[0m\n\u001b[0m\u001b[1;32m     13\u001b[0m \u001b[0mplt\u001b[0m\u001b[0;34m.\u001b[0m\u001b[0msave\u001b[0m\u001b[0;34m(\u001b[0m\u001b[0mf\u001b[0m\u001b[0;34m,\u001b[0m \u001b[0;34m\"qq_cfep.png\"\u001b[0m\u001b[0;34m)\u001b[0m\u001b[0;34m\u001b[0m\u001b[0m\n",
      "\u001b[0;32m/home/samataroukami/.local/lib/python2.7/site-packages/statsmodels/graphics/gofplots.pyc\u001b[0m in \u001b[0;36mqqplot\u001b[0;34m(data, dist, distargs, a, loc, scale, fit, line, ax, **plotkwargs)\u001b[0m\n\u001b[1;32m    504\u001b[0m     \"\"\"\n\u001b[1;32m    505\u001b[0m     probplot = ProbPlot(data, dist=dist, distargs=distargs,\n\u001b[0;32m--> 506\u001b[0;31m                          fit=fit, a=a, loc=loc, scale=scale)\n\u001b[0m\u001b[1;32m    507\u001b[0m     \u001b[0mfig\u001b[0m \u001b[0;34m=\u001b[0m \u001b[0mprobplot\u001b[0m\u001b[0;34m.\u001b[0m\u001b[0mqqplot\u001b[0m\u001b[0;34m(\u001b[0m\u001b[0max\u001b[0m\u001b[0;34m=\u001b[0m\u001b[0max\u001b[0m\u001b[0;34m,\u001b[0m \u001b[0mline\u001b[0m\u001b[0;34m=\u001b[0m\u001b[0mline\u001b[0m\u001b[0;34m,\u001b[0m \u001b[0;34m**\u001b[0m\u001b[0mplotkwargs\u001b[0m\u001b[0;34m)\u001b[0m\u001b[0;34m\u001b[0m\u001b[0m\n\u001b[1;32m    508\u001b[0m     \u001b[0;32mreturn\u001b[0m \u001b[0mfig\u001b[0m\u001b[0;34m\u001b[0m\u001b[0m\n",
      "\u001b[0;32m/home/samataroukami/.local/lib/python2.7/site-packages/statsmodels/graphics/gofplots.pyc\u001b[0m in \u001b[0;36m__init__\u001b[0;34m(self, data, dist, fit, distargs, a, loc, scale)\u001b[0m\n\u001b[1;32m    135\u001b[0m             \u001b[0mdist\u001b[0m \u001b[0;34m=\u001b[0m \u001b[0mgetattr\u001b[0m\u001b[0;34m(\u001b[0m\u001b[0mstats\u001b[0m\u001b[0;34m,\u001b[0m \u001b[0mdist\u001b[0m\u001b[0;34m)\u001b[0m\u001b[0;34m\u001b[0m\u001b[0m\n\u001b[1;32m    136\u001b[0m \u001b[0;34m\u001b[0m\u001b[0m\n\u001b[0;32m--> 137\u001b[0;31m         \u001b[0mself\u001b[0m\u001b[0;34m.\u001b[0m\u001b[0mfit_params\u001b[0m \u001b[0;34m=\u001b[0m \u001b[0mdist\u001b[0m\u001b[0;34m.\u001b[0m\u001b[0mfit\u001b[0m\u001b[0;34m(\u001b[0m\u001b[0mdata\u001b[0m\u001b[0;34m)\u001b[0m\u001b[0;34m\u001b[0m\u001b[0m\n\u001b[0m\u001b[1;32m    138\u001b[0m         \u001b[0;32mif\u001b[0m \u001b[0mfit\u001b[0m\u001b[0;34m:\u001b[0m\u001b[0;34m\u001b[0m\u001b[0m\n\u001b[1;32m    139\u001b[0m             \u001b[0mself\u001b[0m\u001b[0;34m.\u001b[0m\u001b[0mloc\u001b[0m \u001b[0;34m=\u001b[0m \u001b[0mself\u001b[0m\u001b[0;34m.\u001b[0m\u001b[0mfit_params\u001b[0m\u001b[0;34m[\u001b[0m\u001b[0;34m-\u001b[0m\u001b[0;36m2\u001b[0m\u001b[0;34m]\u001b[0m\u001b[0;34m\u001b[0m\u001b[0m\n",
      "\u001b[0;32m/home/samataroukami/.local/lib/python2.7/site-packages/scipy/stats/_continuous_distns.pyc\u001b[0m in \u001b[0;36mfit\u001b[0;34m(self, data, **kwds)\u001b[0m\n\u001b[1;32m    266\u001b[0m \u001b[0;34m\u001b[0m\u001b[0m\n\u001b[1;32m    267\u001b[0m         \u001b[0;32mif\u001b[0m \u001b[0mfloc\u001b[0m \u001b[0;32mis\u001b[0m \u001b[0mNone\u001b[0m\u001b[0;34m:\u001b[0m\u001b[0;34m\u001b[0m\u001b[0m\n\u001b[0;32m--> 268\u001b[0;31m             \u001b[0mloc\u001b[0m \u001b[0;34m=\u001b[0m \u001b[0mdata\u001b[0m\u001b[0;34m.\u001b[0m\u001b[0mmean\u001b[0m\u001b[0;34m(\u001b[0m\u001b[0;34m)\u001b[0m\u001b[0;34m\u001b[0m\u001b[0m\n\u001b[0m\u001b[1;32m    269\u001b[0m         \u001b[0;32melse\u001b[0m\u001b[0;34m:\u001b[0m\u001b[0;34m\u001b[0m\u001b[0m\n\u001b[1;32m    270\u001b[0m             \u001b[0mloc\u001b[0m \u001b[0;34m=\u001b[0m \u001b[0mfloc\u001b[0m\u001b[0;34m\u001b[0m\u001b[0m\n",
      "\u001b[0;32m/home/samataroukami/.local/lib/python2.7/site-packages/numpy/core/_methods.pyc\u001b[0m in \u001b[0;36m_mean\u001b[0;34m(a, axis, dtype, out, keepdims)\u001b[0m\n\u001b[1;32m     73\u001b[0m             \u001b[0mis_float16_result\u001b[0m \u001b[0;34m=\u001b[0m \u001b[0mTrue\u001b[0m\u001b[0;34m\u001b[0m\u001b[0m\n\u001b[1;32m     74\u001b[0m \u001b[0;34m\u001b[0m\u001b[0m\n\u001b[0;32m---> 75\u001b[0;31m     \u001b[0mret\u001b[0m \u001b[0;34m=\u001b[0m \u001b[0mumr_sum\u001b[0m\u001b[0;34m(\u001b[0m\u001b[0marr\u001b[0m\u001b[0;34m,\u001b[0m \u001b[0maxis\u001b[0m\u001b[0;34m,\u001b[0m \u001b[0mdtype\u001b[0m\u001b[0;34m,\u001b[0m \u001b[0mout\u001b[0m\u001b[0;34m,\u001b[0m \u001b[0mkeepdims\u001b[0m\u001b[0;34m)\u001b[0m\u001b[0;34m\u001b[0m\u001b[0m\n\u001b[0m\u001b[1;32m     76\u001b[0m     \u001b[0;32mif\u001b[0m \u001b[0misinstance\u001b[0m\u001b[0;34m(\u001b[0m\u001b[0mret\u001b[0m\u001b[0;34m,\u001b[0m \u001b[0mmu\u001b[0m\u001b[0;34m.\u001b[0m\u001b[0mndarray\u001b[0m\u001b[0;34m)\u001b[0m\u001b[0;34m:\u001b[0m\u001b[0;34m\u001b[0m\u001b[0m\n\u001b[1;32m     77\u001b[0m         ret = um.true_divide(\n",
      "\u001b[0;31mTypeError\u001b[0m: cannot concatenate 'str' and 'float' objects"
     ]
    }
   ],
   "source": [
    "import pandas as pd\n",
    "from statsmodels.graphics.gofplots import qqplot\n",
    "import matplotlib as plt\n",
    "\n",
    "cine = pd.read_csv('https://raw.githubusercontent.com/SamatarouKami/CIENCIA_DE_DATOS/master/old/datosLimpiosCine2.csv', sep='\\\\')\n",
    "ext = cine.Pais[cine.Pais!='Colombia']\n",
    "#print(ext)\n",
    "\n",
    "py.iplot({'data': [go.Histogram(x = ext, histnorm='probability')]}, filename='extranjeros')\n",
    "\n",
    "\n",
    "f = qqplot(ext, line='s')\n",
    "plt.save(f, \"qq_cfep.png\")"
   ]
  },
  {
   "cell_type": "markdown",
   "metadata": {},
   "source": [
    "# Conclusiones\n",
    "No pude hacer que se vieran en la práctica los gráficos, por lo menos no se ven en mi computadora, espero que mañana se vean, los análisis estadisticos requieren que de alguna forma yo convierta mis datos a numeros ya que manejo muchas cadenas de caracteres y eso no me sirve para hacer análisis estadisticos, tal vez el objetivo de esta práctica era encontrar o buscar la manera de hacer eso, pero no encontre forma de hacerlo, solo puedo hacer conteos de la informacion. Tengo que categorizar.\n",
    "\n",
    "--04 de Marzo 2019-- Luis Angel Gutierrez Rodriguez 1484412"
   ]
  }
 ],
 "metadata": {
  "kernelspec": {
   "display_name": "Python 3",
   "language": "python",
   "name": "python3"
  },
  "language_info": {
   "codemirror_mode": {
    "name": "ipython",
    "version": 3
   },
   "file_extension": ".py",
   "mimetype": "text/x-python",
   "name": "python",
   "nbconvert_exporter": "python",
   "pygments_lexer": "ipython3",
   "version": "3.6.7"
  }
 },
 "nbformat": 4,
 "nbformat_minor": 2
}
