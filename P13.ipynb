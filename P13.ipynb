{
 "cells": [
  {
   "cell_type": "markdown",
   "metadata": {},
   "source": [
    "# Reporte de práctica 13: Análisis de imagenes\n",
    "\n",
    "Para ésta práctica se tomarán en cuenta los ganadores de las seis categorías disponibles para el concurso de Colombia en el año 2018. Contamos con los videos ganadores en la plataforma de Youtube, todos en alta calidad. Se necesitan hacer análisis sobre las imagenes que obtendrémos de los fotogramas de los videos.\n",
    "\n",
    "## Objetivo\n",
    "\n",
    "- Aplicar algún tipo de procesamiento de imágenes.\n",
    "\n",
    "## Datos\n",
    "\n",
    "### \"Base de datos completa\" de los registros al concurso de SmartFilm.\n",
    "\n",
    "En este caso, es necesario limpiar los datos, seleccionaremos los registros que concuerden con el nombre de los videos ganadores por categoría.\n",
    "\n",
    "De la Base de datos tomaremos los siguientes campos para trabajar:\n",
    "\n",
    " - Categoría\n",
    " - Edad\n",
    " - País\n",
    " - Título del Corto\n",
    " - Género\n",
    " - Duración\n",
    " - Marca\n",
    " - Referencia Celular\n",
    " - Días de rodaje\n",
    " - Marcas del rodaje\n",
    " - Personas\n",
    "\n",
    "\n",
    "### Contamos con 6 videos en resolución 1920 x 1080 pixeles sin audio formato mp4.\n",
    "\n",
    "Los videos ganadores son los siguientes:\n",
    "\n",
    "|Categoría|Título|\n",
    "|---|---|\n",
    "|Aficionado|[EZEQUIEL 18:27](https://www.youtube.com/watch?v=qx8wACV3Wyc)|\n",
    "|Crónica|[Mil colores para mi pueblo, Arte para la paz.](https://www.youtube.com/watch?v=SdYrUJ1vo_I)|\n",
    "|Familiar|[Ellos](https://www.youtube.com/watch?v=MBtZc9HOFsM)|\n",
    "|Juvenil|[La Otra Cara de Karla](https://www.youtube.com/watch?v=H_4QW3xdf5w)|\n",
    "|Profesional|[Una última vez](https://www.youtube.com/watch?v=_67Y-K7ASDk)|\n",
    "|SmarTIC|[Sin Ataduras 1812](https://www.youtube.com/watch?v=FLofpshTn8k)|\n",
    "\n",
    "De cada video tomaremos todos los fotogramas para procesarlos. \n",
    "\n",
    "## Hipótesis\n",
    "\n",
    "### Para Imágenes\n",
    "Para separar las transiciones relevantes de posibles cambios de iluminación en el video, haremos un clasificador sencillo, si la transición está por encima de la media de todas las transiciones, quiere decir no es un simple cambio de iluminación.\n",
    "\n",
    "### Imágenes contra datos\n",
    "La cantidad de transiciones está relacionada con la cantidad de días de rodaje.\n",
    "\n",
    "## Método \n",
    "\n",
    "La forma en la que analizaremos los videos será tomando un fotograma (fotograma base) y comparándolo con los dos contiguos (prueba 1 y 2). Utilizaremos [OpenCV](https://opencv.org/) para el tratamiento de las imágenes, compararemos histogramas. Convertiremos los colores de la imagen de RGB a HSV para trabajar tal como lo muestra el [tutorial](https://docs.opencv.org/master/d8/dc8/tutorial_histogram_comparison.html). Utilizamos  el método de comparación Chi cuadrada ya que si uno de los fotogramas de prueba es completamente diferente al fotograma base los valores que arroja son significativamente altos, indicando una transición de escena en el video.\n",
    "\n",
    "Compararemos la cantidad de transiciones se relaciona con los días de rodaje.\n",
    "\n",
    "Se crearon dos clases en python para procesar los videos y después los fotogramas.\n",
    "\n",
    "- Extract_frames\n",
    "- Hist_comparison\n",
    "\n",
    "## Preparación\n",
    "\n",
    "Primero preparamos el dataframe de la base de datos."
   ]
  },
  {
   "cell_type": "code",
   "execution_count": 2,
   "metadata": {},
   "outputs": [
    {
     "name": "stdout",
     "output_type": "stream",
     "text": [
      "              Categoria  Edad      Pais  \\\n",
      "156            FAMILIAR    21  Colombia   \n",
      "175          AFICIONADO    19  Colombia   \n",
      "234             JUVENIL    16  Colombia   \n",
      "294            CRONICAS    31  Colombia   \n",
      "381  SMARTIC INCLUYENTE    29  Colombia   \n",
      "433         PROFESIONAL    25  Colombia   \n",
      "\n",
      "                                            Titulo   Genero  Duracion  \\\n",
      "156                                          Ellos    Drama       290   \n",
      "175                                 EZEQUIEL 18:27    Drama       299   \n",
      "234                          La Otra Cara de Karla     Otra     27423   \n",
      "294  Mil colores para mi pueblo, Arte para la paz.  Crónica       300   \n",
      "381                              Sin Ataduras 1812    Drama       298   \n",
      "433                                 Una última vez    Drama       299   \n",
      "\n",
      "       Marca                  Referencia  Dias   Marcas  Personas  \n",
      "156    Apple                     iPhone8    60    172.0        20  \n",
      "175    Apple                    ¡Phone 7   155    154.0        15  \n",
      "234  Samsung                         S9+    40  20899.0        35  \n",
      "294  Samsung              Galaxy s6 Edge    30      NaN         6  \n",
      "381  Samsung                   Galaxy A8    90      NaN         6  \n",
      "433    Apple  iphone x + rig para lentes    50     52.0        35  \n"
     ]
    }
   ],
   "source": [
    "import pandas as pd\n",
    "df2018 = pd.read_excel('2018.xlsx', index_col=None, header=0, sheet_name=0)\n",
    "df2018 = df2018[['Categoria','Edad','Pais', 'Titulo','Genero', 'Duracion', 'Marca','Referencia','Dias','Marcas','Personas']]\n",
    "#print(df2018.columns)\n",
    "\n",
    "ganadores = ['EZEQUIEL 18:27','Mil colores para mi pueblo, Arte para la paz.','Ellos','La Otra Cara de Karla','Una última vez','Sin Ataduras 1812']\n",
    "\n",
    "df2018 = df2018.loc[df2018['Titulo'].isin(ganadores)]\n",
    "print(df2018)"
   ]
  },
  {
   "cell_type": "markdown",
   "metadata": {},
   "source": [
    "Como la extracción de frames de los videos agranda el volumen de archivos con los cuales trabajar, se aplicó el método en los videos fuera de linea. Se obtuvieron doce archivos, emparejados representan un video, el primero es la comparación de todos los frames, y el segundo es la comparación de los frames revisando cada cierta cantidad de frames, dada por el \"fps rate\".\n",
    "\n",
    "|Video|Archivos||\n",
    "|---|---|---|\n",
    "|EZEQUIEL 18:27|framesA.csv|secondsA.csv|\n",
    "|Mil colores para mi pueblo, Arte para la paz.|framesC.csv|secondsC.csv|"
   ]
  }
 ],
 "metadata": {
  "kernelspec": {
   "display_name": "Python 3",
   "language": "python",
   "name": "python3"
  },
  "language_info": {
   "codemirror_mode": {
    "name": "ipython",
    "version": 3
   },
   "file_extension": ".py",
   "mimetype": "text/x-python",
   "name": "python",
   "nbconvert_exporter": "python",
   "pygments_lexer": "ipython3",
   "version": "3.6.7"
  }
 },
 "nbformat": 4,
 "nbformat_minor": 2
}
