{
 "cells": [
  {
   "cell_type": "markdown",
   "metadata": {},
   "source": [
    "# Reporte de Práctica 11: Agrupamiento de datos\n",
    "\n",
    "Para esta práctica solamente trabajamos con los datos del año 2017, los mismos que utilizamos la práctica pasada, salvo que se encontró el error “47”, era un string con muchos tabuladores y ocasionó error de conversión a float. En ésta práctica realizaremos clusters con de la información, no proporcionaremos etiquetas para clasificar, dejaremos que los datos por su propia naturaleza y aplicando distintos algoritmos se agrupen ellos mismos.  \n",
    "\n",
    "\n",
    "## Objetivos\n",
    "\n",
    "* Utiliza por dos algoritmos de agrupamiento.\n",
    "* Reportar los hallazgos con gráficas y con medidas de calidad.\n",
    "\n",
    "## Algoritmos de agrupamiento.\n",
    "Utilizaremos los algoritmos de agrupamiento mostrados en [el tutorial de agrupamiento de scikit-learn](https://scikit-learn.org/stable/modules/clustering.html) y seleccionamos dos para aplicar. Usamos los siguientes:\n",
    "\n",
    "*  K-Means\n",
    "* Affinity Propagation\n",
    "\n",
    "## Preparación de los datos\n",
    "\n",
    "Primero tomamos los archivos originales y los procesamos fuera de la nube, producto de esta limpieza se generó el archivo \"clasificacion2017.csv\" en la práctica pasada."
   ]
  },
  {
   "cell_type": "code",
   "execution_count": 1,
   "metadata": {},
   "outputs": [
    {
     "name": "stdout",
     "output_type": "stream",
     "text": [
      "649\n"
     ]
    }
   ],
   "source": [
    "import pandas as pd\n",
    "import matplotlib.pyplot as plt\n",
    "df = pd.read_csv(\"https://raw.githubusercontent.com/SamatarouKami/CIENCIA_DE_DATOS/master/clasificacion2017.csv\")\n",
    "print(len(df))\n"
   ]
  },
  {
   "cell_type": "markdown",
   "metadata": {},
   "source": [
    "## Algoritmo K-Means\n",
    "\n",
    "Éste algoritmo agrupa los datos al tratar de separar muestras en n grupos de igual varianza, minimizando un criterio conocido como la inercia o la suma de cuadrados dentro del grupo. Este algoritmo requiere que se especifique la cantidad de grupos. Se adapta bien a un gran número de muestras y se ha utilizado en una amplia gama de áreas de aplicación en muchos campos diferentes.\n",
    "\n",
    "### Aplicación de K-Means"
   ]
  },
  {
   "cell_type": "code",
   "execution_count": 2,
   "metadata": {},
   "outputs": [
    {
     "name": "stdout",
     "output_type": "stream",
     "text": [
      "(428, 'integrantes en grupo', 0)\n",
      "(221, 'integrantes en grupo', 1)\n"
     ]
    },
    {
     "data": {
      "image/png": "[encoded data removed]",
      "text/plain": [
       "<Figure size 432x288 with 1 Axes>"
      ]
     },
     "metadata": {
      "needs_background": "light"
     },
     "output_type": "display_data"
    },
    {
     "name": "stdout",
     "output_type": "stream",
     "text": [
      "0.6081740309385313\n"
     ]
    }
   ],
   "source": [
    "from sklearn import metrics\n",
    "from numpy.random import seed\n",
    "from sklearn.cluster import KMeans\n",
    "from numpy import isnan, nan, take, where\n",
    "\n",
    "d = pd.read_csv(\"https://raw.githubusercontent.com/SamatarouKami/CIENCIA_DE_DATOS/master/clasificacion2017.csv\")\n",
    "\n",
    "cat = pd.Categorical(d.Categoria)\n",
    "d.Categoria = cat.codes\n",
    "\n",
    "gen = pd.Categorical(d.Genero)\n",
    "d.Genero = gen.codes\n",
    "\n",
    "pai = pd.Categorical(d.Pais)\n",
    "d.Pais = pai.codes\n",
    "\n",
    "sex = pd.Categorical(d.Sexo) \n",
    "d.Sexo = pai.codes\n",
    "\n",
    "keep = ['Edad', 'Categoria', 'Sexo'] \n",
    "d = d.loc[:, keep]\n",
    "d = d.dropna() \n",
    "x = d.values\n",
    "k = 2\n",
    "m = KMeans(init = 'random', n_clusters = k, n_init = 10)\n",
    "m.fit(x)\n",
    "centroides = m.cluster_centers_\n",
    "grupos = m.predict(x)\n",
    "plt.figure(1)\n",
    "plt.scatter(centroides[:, 0], centroides[:, 1], marker='x', s=150, linewidths=3, color='black', zorder=10)\n",
    "colores = ['r', 'g', 'b']\n",
    "for g in range(k):\n",
    "    incl = where(grupos == g)[0]\n",
    "    print(len(incl), \"integrantes en grupo\", g)\n",
    "    grupo = take(x, incl, 0)\n",
    "    plt.scatter(grupo[:, 0], grupo[:, 1], marker='o', s=20, linewidths=2, color=colores[g], alpha = 0.3, zorder=5)\n",
    "plt.show()\n",
    "print(metrics.silhouette_score(x, grupos, metric='euclidean'))"
   ]
  },
  {
   "cell_type": "markdown",
   "metadata": {},
   "source": [
    "Probemos con diferentes valores de k para ver cuál da el mejor valor de la coeficiente de silueta"
   ]
  },
  {
   "cell_type": "code",
   "execution_count": 3,
   "metadata": {},
   "outputs": [
    {
     "data": {
      "image/png": "[encoded data removed]",
      "text/plain": [
       "<Figure size 432x288 with 1 Axes>"
      ]
     },
     "metadata": {
      "needs_background": "light"
     },
     "output_type": "display_data"
    }
   ],
   "source": [
    "import pandas as pd\n",
    "from sklearn import metrics\n",
    "from numpy.random import seed\n",
    "from numpy import isnan, nan, take, where\n",
    "from sklearn.cluster import KMeans\n",
    "\n",
    "\n",
    "d = pd.read_csv(\"https://raw.githubusercontent.com/SamatarouKami/CIENCIA_DE_DATOS/master/clasificacion2017.csv\")\n",
    "\n",
    "cat = pd.Categorical(d.Categoria)\n",
    "d.Categoria = cat.codes\n",
    "\n",
    "sex = pd.Categorical(d.Sexo) \n",
    "d.Sexo = pai.codes\n",
    "\n",
    "keep =  ['Edad', 'Categoria', 'Sexo']  \n",
    "\n",
    "d = d.loc[:, keep]\n",
    "d = d.dropna() \n",
    "x = d.values\n",
    "ks = [k for k in range(2, 20)]\n",
    "sil = []\n",
    "for k in ks:\n",
    "    m = KMeans(init = 'random', n_clusters = k, n_init = 10)\n",
    "    m.fit(x)\n",
    "    sil.append(metrics.silhouette_score(x, m.predict(x), metric='euclidean'))\n",
    "plt.figure(1)\n",
    "plt.plot(ks, sil)\n",
    "plt.show()\n",
    "\n"
   ]
  },
  {
   "cell_type": "markdown",
   "metadata": {},
   "source": [
    "En definitiva, la gráfica nos muestra que el hacer el agrupamiento en dos grupos es el que obtiene la mejor calidad de agrupamiento, ya que no vuelve a crecer la calidad si hacemos la división en más grupos.\n",
    "\n",
    "## Algoritmo AffinityPropagation\n",
    "\n",
    "Éste algoritmo crea clústeres enviando mensajes entre pares de muestras hasta la convergencia. Luego se describe un conjunto de datos utilizando un pequeño número de ejemplares, que se identifican como los más representativos de otras muestras. Los mensajes enviados entre pares representan la idoneidad para que una muestra sea el ejemplar de la otra, que se actualiza en respuesta a los valores de otros pares. Esta actualización ocurre de manera iterativa hasta la convergencia, momento en el que se eligen los ejemplares finales y, por lo tanto, se proporciona la agrupación final.\n",
    "\n",
    "\n",
    "### Aplicación de AffinityPropagation"
   ]
  },
  {
   "cell_type": "code",
   "execution_count": 9,
   "metadata": {},
   "outputs": [
    {
     "name": "stdout",
     "output_type": "stream",
     "text": [
      "(606, 'integrantes en grupo', 0)\n",
      "(43, 'integrantes en grupo', 1)\n"
     ]
    },
    {
     "data": {
      "image/png": "[encoded data removed]",
      "text/plain": [
       "<Figure size 432x288 with 1 Axes>"
      ]
     },
     "metadata": {
      "needs_background": "light"
     },
     "output_type": "display_data"
    },
    {
     "name": "stdout",
     "output_type": "stream",
     "text": [
      "0.5498546010295401\n"
     ]
    }
   ],
   "source": [
    "import seaborn as sns\n",
    "from numpy import take, where, unique, concatenate\n",
    "from sklearn.cluster import AffinityPropagation\n",
    "m = AffinityPropagation(damping = 0.9, convergence_iter = 30)\n",
    "\n",
    "xVars =  ['Edad', 'Categoria', 'Sexo']  \n",
    "\n",
    "d = d.loc[:, xVars]\n",
    "x = d.values\n",
    "\n",
    "c = m.fit(x)\n",
    "grupos = c.labels_\n",
    "plt.clf()\n",
    "plt.figure(1)\n",
    "k = len(unique(grupos))\n",
    "colores = sns.color_palette(\"husl\", k)\n",
    "for g in range(k):\n",
    "    incl = where(grupos == g)[0]\n",
    "    print(len(incl), \"integrantes en grupo\", g)\n",
    "    grupo = take(x, incl, 0)\n",
    "    plt.scatter(grupo[:, 0], grupo[:, 1], marker='o', s=20, linewidths=2, color=colores[g], alpha = 0.6, zorder=5)\n",
    "plt.show()\n",
    "print(metrics.silhouette_score(x, grupos, metric='euclidean'))"
   ]
  },
  {
   "cell_type": "markdown",
   "metadata": {},
   "source": [
    "## Conclusión\n",
    "Al aplicar estos dos algoritmos de agrupamiento se puede notar que la mejor forma de agrupar estos datos es en dos grupos, aunque el K-Means tuvo una mejor calidad de solución al obtener 0.6081740309385313 y el AffinityPropagation obtuvo 0.5498546010295401. En K-Means se agrupan las edades en los de 29 años o menor, y los de 30 o mayor y en AffinityPropagation se agrupan en los de 41 años o menor y los de 42 o mayor.\n",
    "\n",
    "--6 de Mayo 2019--\n",
    "Luis Angel Gutierrez Rodriguez 1484412"
   ]
  }
 ],
 "metadata": {
  "kernelspec": {
   "display_name": "Python 3",
   "language": "python",
   "name": "python3"
  },
  "language_info": {
   "codemirror_mode": {
    "name": "ipython",
    "version": 3
   },
   "file_extension": ".py",
   "mimetype": "text/x-python",
   "name": "python",
   "nbconvert_exporter": "python",
   "pygments_lexer": "ipython3",
   "version": "3.6.7"
  }
 },
 "nbformat": 4,
 "nbformat_minor": 2
}
