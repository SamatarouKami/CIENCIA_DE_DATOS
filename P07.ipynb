{
 "cells": [
  {
   "cell_type": "markdown",
   "metadata": {},
   "source": [
    "# Reporte de práctica 7: Regresión múltiple con statsmodels\n",
    "\n",
    "En ésta práctica es parecida a la anterior, solo que ahora los modelos lineales tendrán mas de un factor.\n",
    "\n",
    "## Objetivo \n",
    "Incluir por lo menos un modelo de regresión múltiple e intenta usar sus resultados como un clasificador de alguna variable de interés para el proyecto.\n",
    "\n",
    "## Cargar datos de csv\n",
    "\n",
    "Queremos probar si la categoría eligieron para su clip, está relacionado de alguna forma con el país de procedencia y por año de participación.\n",
    "\n",
    "Primero importamos el archivo que esta en github que tiene información limpia de prácticas pasadas."
   ]
  },
  {
   "cell_type": "code",
   "execution_count": 6,
   "metadata": {},
   "outputs": [],
   "source": [
    "import statsmodels.api as sm\n",
    "from numpy import isnan\n",
    "import pandas as pd\n",
    "\n",
    "cine = pd.read_csv('https://raw.githubusercontent.com/SamatarouKami/CIENCIA_DE_DATOS/master/cineWoNAN.csv')\n",
    "#print(cine)\n",
    "n=len(cine)"
   ]
  },
  {
   "cell_type": "markdown",
   "metadata": {},
   "source": [
    "## Categorizaciones\n",
    "\n",
    "\n",
    "Como tenemos muchas cadenas de texto en nuestros datos, es importante hacer categorizaciones ya que hacemos conteos de la información que tenemos disponible y así poder hacer cálculos estadísticos.\n",
    "\n",
    "### Categorias por país\n",
    "\n",
    "\n",
    "Aplicamos una categorización por país, pero se removieron los datos que involucran a México y Colombia que son los países anfitriones del concurso y por ende son los que nos sesgan la información, entonces esta información será relevante a los países extranjeros que participan."
   ]
  },
  {
   "cell_type": "code",
   "execution_count": 27,
   "metadata": {},
   "outputs": [
    {
     "name": "stdout",
     "output_type": "stream",
     "text": [
      "                    Pais  2015  2016  2017  2018  Total\n",
      "0               Colombia   276   837   614   357   2084\n",
      "1                 España     7     8     1     5     21\n",
      "2                 México     5     2     1    89     97\n",
      "3                Ecuador     2     3     0     0      5\n",
      "4                Francia     2     1     0     0      3\n",
      "5              Venezuela     3     1     1     0      5\n",
      "6              Argentina     1     3     3     1      8\n",
      "7                   Perú     1     0     0     0      1\n",
      "8         Estados Unidos     3     3     3     2     11\n",
      "9                 Brasil     2     1     0     0      3\n",
      "10                  Cuba     1     0     0     0      1\n",
      "11              Alemania     0     1     0     0      1\n",
      "12         Internacional     0     5    11     0     16\n",
      "13             Marruecos     0     1     0     0      1\n",
      "14               Uruguay     0     1     0     0      1\n",
      "15  Republica Dominicana     0     1     0     0      1\n",
      "16                Canadá     0     1     0     0      1\n",
      "17            Afganistán     0     0    16     0     16\n",
      "18               Comoras     0     0     1     0      1\n"
     ]
    }
   ],
   "source": [
    "paises = cine['País'].unique()\n",
    "\n",
    "listaPaises = []\n",
    "for country in paises:\n",
    "    listaPaises.append([country,cine[(cine['País']==country) & (cine['Año']==2015)].count()['Año'],cine[(cine['País']==country) & (cine['Año']==2016)].count()['Año'],cine[(cine['País']==country) & (cine['Año']==2017)].count()['Año'],cine[(cine['País']==country) & (cine['Año']==2018)].count()['Año'],cine[cine['País']==country].count()['Año']])\n",
    "#print(listaPaises)\n",
    "#listaPaises.pop(0)## quita Colombia\n",
    "#listaPaises.pop(1)## quita México\n",
    "\n",
    "dfpais = pd.DataFrame(data=listaPaises)\n",
    "dfpais.columns = ['Pais', '2015', '2016', '2017', '2018', 'Total']\n",
    "print(dfpais)"
   ]
  },
  {
   "cell_type": "markdown",
   "metadata": {},
   "source": [
    "### Categorias por \"Categoría\"\n",
    "\n",
    "También categorizamos la Categoría del corto, y se clasificó por año."
   ]
  },
  {
   "cell_type": "code",
   "execution_count": 28,
   "metadata": {},
   "outputs": [
    {
     "name": "stdout",
     "output_type": "stream",
     "text": [
      "     Categoria  2015  2016  2017  2018  Total\n",
      "0   Aficionado    13    16    11     3     43\n",
      "1  Profesional     8     7     7     3     25\n",
      "2     Infantil     1     1     0     0      2\n",
      "3      Juvenil     0     4     9     0     13\n",
      "4      SmarTIC     0     2     9     2     13\n"
     ]
    }
   ],
   "source": [
    "categorias = cine['Categoría'].unique()\n",
    "listaCategoria = []\n",
    "for cat in categorias:\n",
    "    listaCategoria.append([cat,cine[(cine['Categoría']==cat) & (cine['Año']==2015) & (cine['País']!='Colombia')& (cine['País']!='México')].count()['Año'],cine[(cine['Categoría']==cat) & (cine['Año']==2016)& (cine['País']!='Colombia')& (cine['País']!='México')].count()['Año'],cine[(cine['Categoría']==cat) & (cine['Año']==2017)& (cine['País']!='Colombia')& (cine['País']!='México')].count()['Año'],cine[(cine['Categoría']==cat) & (cine['Año']==2018)& (cine['País']!='Colombia')& (cine['País']!='México')].count()['Año'],cine[(cine['Categoría']==cat) & (cine['País']!='Colombia')& (cine['País']!='México')].count()['Año']])\n",
    "\n",
    "dfcat = pd.DataFrame(data=listaCategoria)\n",
    "dfcat.columns = ['Categoria', '2015', '2016', '2017', '2018', 'Total']\n",
    "print(dfcat)"
   ]
  },
  {
   "cell_type": "markdown",
   "metadata": {},
   "source": [
    "### Categorias por Género\n",
    "\n",
    "También categorizamos género del corto, y se clasificó por año."
   ]
  },
  {
   "cell_type": "code",
   "execution_count": 16,
   "metadata": {},
   "outputs": [],
   "source": [
    "#generos = cine['Género'].unique()\n",
    "#print(generos)\n",
    "#listaGenero = []\n",
    "#for gen in generos:\n",
    "#    listaGenero.append([gen,cine[(cine['Género']==gen) & (cine['Año']==2015) ].count()['Año'],cine[(cine['Género']==gen) & (cine['Año']==2016)].count()['Año'],cine[(cine['Género']==gen) & (cine['Año']==2017)].count()['Año'],cine[(cine['Género']==gen) & (cine['Año']==2018)].count()['Año'],cine[(cine['Género']==gen)].count()['Año']])\n",
    "\n",
    "#dfgen = pd.DataFrame(data=listaGenero)\n",
    "#dfgen.columns = ['Género', '2015', '2016', '2017', '2018', 'Total']\n",
    "#print(dfgen)"
   ]
  },
  {
   "cell_type": "code",
   "execution_count": 25,
   "metadata": {},
   "outputs": [
    {
     "name": "stdout",
     "output_type": "stream",
     "text": [
      "                            OLS Regression Results                            \n",
      "==============================================================================\n",
      "Dep. Variable:                  Total   R-squared:                       1.000\n",
      "Model:                            OLS   Adj. R-squared:                  1.000\n",
      "Method:                 Least Squares   F-statistic:                 5.196e+30\n",
      "Date:                Mon, 25 Mar 2019   Prob (F-statistic):          2.59e-181\n",
      "Time:                        11:21:47   Log-Likelihood:                 536.45\n",
      "No. Observations:                  17   AIC:                            -1063.\n",
      "Df Residuals:                      12   BIC:                            -1059.\n",
      "Df Model:                           4                                         \n",
      "Covariance Type:            nonrobust                                         \n",
      "==============================================================================\n",
      "                 coef    std err          t      P>|t|      [0.025      0.975]\n",
      "------------------------------------------------------------------------------\n",
      "const      -9.992e-16   2.35e-15     -0.426      0.678   -6.11e-15    4.12e-15\n",
      "2015           1.0000   1.53e-15   6.55e+14      0.000       1.000       1.000\n",
      "2016           1.0000   1.19e-15   8.43e+14      0.000       1.000       1.000\n",
      "2017           1.0000   3.45e-16    2.9e+15      0.000       1.000       1.000\n",
      "2018           1.0000   2.57e-15   3.89e+14      0.000       1.000       1.000\n",
      "==============================================================================\n",
      "Omnibus:                        6.797   Durbin-Watson:                   1.502\n",
      "Prob(Omnibus):                  0.033   Jarque-Bera (JB):                5.453\n",
      "Skew:                          -0.354   Prob(JB):                       0.0655\n",
      "Kurtosis:                       5.683   Cond. No.                         12.2\n",
      "==============================================================================\n",
      "\n",
      "Warnings:\n",
      "[1] Standard Errors assume that the covariance matrix of the errors is correctly specified.\n"
     ]
    },
    {
     "name": "stderr",
     "output_type": "stream",
     "text": [
      "/home/samataroukami/.local/lib/python2.7/site-packages/scipy/stats/stats.py:1416: UserWarning: kurtosistest only valid for n>=20 ... continuing anyway, n=17\n",
      "  \"anyway, n=%i\" % int(n))\n"
     ]
    }
   ],
   "source": [
    "if n >= 8: # no se puede con menos de ocho\n",
    "        y = dfpais[\"Total\"]\n",
    "        x = dfpais[[\"2015\", \"2016\", \"2017\", \"2018\"]]\n",
    "        x = sm.add_constant(x) # para contar con la b en nuestra f()\n",
    "        m = sm.OLS(y, x).fit() \n",
    "        #print(datos.profe.unique()[0])\n",
    "        print(m.summary())"
   ]
  },
  {
   "cell_type": "code",
   "execution_count": 26,
   "metadata": {},
   "outputs": [
    {
     "data": {
      "image/png": "[encoded data removed]",
      "text/plain": [
       "<Figure size 648x648 with 25 Axes>"
      ]
     },
     "metadata": {
      "needs_background": "light"
     },
     "output_type": "display_data"
    }
   ],
   "source": [
    "import matplotlib.pyplot as plt\n",
    "tmp = pd.plotting.scatter_matrix(dfpais, figsize = (9, 9), s = 500) "
   ]
  },
  {
   "cell_type": "markdown",
   "metadata": {},
   "source": [
    "Haremos lo mismo con las categorías, pero no espero obtener nada ya que la cantidad de registros es menor a ocho."
   ]
  },
  {
   "cell_type": "code",
   "execution_count": 29,
   "metadata": {},
   "outputs": [
    {
     "name": "stdout",
     "output_type": "stream",
     "text": [
      "                            OLS Regression Results                            \n",
      "==============================================================================\n",
      "Dep. Variable:                  Total   R-squared:                       1.000\n",
      "Model:                            OLS   Adj. R-squared:                    nan\n",
      "Method:                 Least Squares   F-statistic:                     0.000\n",
      "Date:                Mon, 25 Mar 2019   Prob (F-statistic):                nan\n",
      "Time:                        11:38:44   Log-Likelihood:                 153.74\n",
      "No. Observations:                   5   AIC:                            -297.5\n",
      "Df Residuals:                       0   BIC:                            -299.4\n",
      "Df Model:                           4                                         \n",
      "Covariance Type:            nonrobust                                         \n",
      "==============================================================================\n",
      "                 coef    std err          t      P>|t|      [0.025      0.975]\n",
      "------------------------------------------------------------------------------\n",
      "const      -1.155e-14        inf         -0        nan         nan         nan\n",
      "2015           1.0000        inf          0        nan         nan         nan\n",
      "2016           1.0000        inf          0        nan         nan         nan\n",
      "2017           1.0000        inf          0        nan         nan         nan\n",
      "2018           1.0000        inf          0        nan         nan         nan\n",
      "==============================================================================\n",
      "Omnibus:                          nan   Durbin-Watson:                   1.364\n",
      "Prob(Omnibus):                    nan   Jarque-Bera (JB):                0.934\n",
      "Skew:                           1.035   Prob(JB):                        0.627\n",
      "Kurtosis:                       2.558   Cond. No.                         54.6\n",
      "==============================================================================\n",
      "\n",
      "Warnings:\n",
      "[1] Standard Errors assume that the covariance matrix of the errors is correctly specified.\n"
     ]
    },
    {
     "name": "stderr",
     "output_type": "stream",
     "text": [
      "/home/samataroukami/.local/lib/python2.7/site-packages/statsmodels/stats/stattools.py:72: ValueWarning: omni_normtest is not valid with less than 8 observations; 5 samples were given.\n",
      "  \"samples were given.\" % int(n), ValueWarning)\n",
      "/home/samataroukami/.local/lib/python2.7/site-packages/statsmodels/regression/linear_model.py:1549: RuntimeWarning: divide by zero encountered in divide\n",
      "  return 1 - (np.divide(self.nobs - self.k_constant, self.df_resid)\n",
      "/home/samataroukami/.local/lib/python2.7/site-packages/statsmodels/regression/linear_model.py:1550: RuntimeWarning: invalid value encountered in double_scalars\n",
      "  * (1 - self.rsquared))\n",
      "/home/samataroukami/.local/lib/python2.7/site-packages/statsmodels/regression/linear_model.py:1558: RuntimeWarning: divide by zero encountered in double_scalars\n",
      "  return self.ssr/self.df_resid\n",
      "/home/samataroukami/.local/lib/python2.7/site-packages/statsmodels/regression/linear_model.py:1510: RuntimeWarning: divide by zero encountered in double_scalars\n",
      "  return np.dot(wresid, wresid) / self.df_resid\n"
     ]
    }
   ],
   "source": [
    "if n >= 8: # no se puede con menos de ocho\n",
    "        y = dfcat[\"Total\"]\n",
    "        x = dfcat[[\"2015\", \"2016\", \"2017\", \"2018\"]]\n",
    "        x = sm.add_constant(x) # para contar con la b en nuestra f()\n",
    "        m = sm.OLS(y, x).fit() \n",
    "        #print(datos.profe.unique()[0])\n",
    "        print(m.summary())"
   ]
  },
  {
   "cell_type": "markdown",
   "metadata": {},
   "source": [
    "No funcionó por que tengo menos de 8 categorias."
   ]
  },
  {
   "cell_type": "code",
   "execution_count": 31,
   "metadata": {},
   "outputs": [
    {
     "name": "stdout",
     "output_type": "stream",
     "text": [
      "           2015      2016      2017      2018     Total\n",
      "2015   1.000000  0.999679  0.998901  0.972890  0.999269\n",
      "2016   0.999679  1.000000  0.999529  0.969860  0.999011\n",
      "2017   0.998901  0.999529  1.000000  0.968822  0.998677\n",
      "2018   0.972890  0.969860  0.968822  1.000000  0.979544\n",
      "Total  0.999269  0.999011  0.998677  0.979544  1.000000\n"
     ]
    },
    {
     "data": {
      "image/png": "[encoded data removed]",
      "text/plain": [
       "<Figure size 432x288 with 1 Axes>"
      ]
     },
     "metadata": {
      "needs_background": "light"
     },
     "output_type": "display_data"
    }
   ],
   "source": [
    "print(dfpais.corr())\n",
    "f = plt.figure()  \n",
    "sf = f.add_subplot(212)\n",
    "tmp = sf.matshow(dfpais.corr())"
   ]
  },
  {
   "cell_type": "markdown",
   "metadata": {},
   "source": [
    "### Observación\n",
    "Entonces descubrí que la mejor manera de tratar los datos es reemplazando la categorización en el dataframe original, es decir, cambiar texto por numeros que indican el país o la categoría."
   ]
  },
  {
   "cell_type": "markdown",
   "metadata": {},
   "source": [
    "## Conclusión\n",
    "\n",
    "Esta práctica no la concluí a tiempo, tendré que realizarla completa y cumplir con los objetivos para poder agregarla al portafolio al final del semestre.\n",
    "\n",
    "--25 de Marzo 2019-- Luis Angel Gutierrez Rodriguez 1484412"
   ]
  }
 ],
 "metadata": {
  "kernelspec": {
   "display_name": "Python 3",
   "language": "python",
   "name": "python3"
  },
  "language_info": {
   "codemirror_mode": {
    "name": "ipython",
    "version": 2
   },
   "file_extension": ".py",
   "mimetype": "text/x-python",
   "name": "python",
   "nbconvert_exporter": "python",
   "pygments_lexer": "ipython2",
   "version": "2.7.15rc1"
  }
 },
 "nbformat": 4,
 "nbformat_minor": 2
}
