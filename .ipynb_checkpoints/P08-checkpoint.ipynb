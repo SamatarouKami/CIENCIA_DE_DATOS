{
 "cells": [
  {
   "cell_type": "markdown",
   "metadata": {},
   "source": [
    "# Reporte de práctica 8: Análisis de varianza y de componentes principales\n",
    "\n",
    "En ésta práctica haremos análisis de varianza(ANOVA) a los datos de las prácticas anteriores.\n",
    "\n",
    "## Objetivo\n",
    "\n",
    "Realizar un ANOVA y un (Análisis de componentes principales)PCA"
   ]
  },
  {
   "cell_type": "code",
   "execution_count": 1,
   "metadata": {},
   "outputs": [],
   "source": [
    "import statsmodels.api as sm\n",
    "from numpy import isnan\n",
    "import pandas as pd\n",
    "\n",
    "cine = pd.read_csv('https://raw.githubusercontent.com/SamatarouKami/CIENCIA_DE_DATOS/master/cineWoNAN.csv')\n",
    "#print(cine)\n",
    "n=len(cine)"
   ]
  },
  {
   "cell_type": "code",
   "execution_count": null,
   "metadata": {},
   "outputs": [],
   "source": []
  }
 ],
 "metadata": {
  "kernelspec": {
   "display_name": "Python 3",
   "language": "python",
   "name": "python3"
  },
  "language_info": {
   "codemirror_mode": {
    "name": "ipython",
    "version": 3
   },
   "file_extension": ".py",
   "mimetype": "text/x-python",
   "name": "python",
   "nbconvert_exporter": "python",
   "pygments_lexer": "ipython3",
   "version": "3.6.7"
  }
 },
 "nbformat": 4,
 "nbformat_minor": 2
}
