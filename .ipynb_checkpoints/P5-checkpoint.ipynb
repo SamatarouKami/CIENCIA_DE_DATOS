{
 "cells": [
  {
   "cell_type": "markdown",
   "metadata": {},
   "source": [
    "# Reporte de Práctica 5: Pruebas estadísticas\n",
    "\n",
    "En ésta práctica se realizarán 3 análisis estadisticos a los datos del cine. Primero realizaremos histogramas de la información para observar su comportamiento si es normalizado o no.\n",
    "\n",
    "Como se harán gráficas de los datos, se instaló la libreria Plotly de python3 para hacer esta tarea, debido a que es una liberia de pago, se creó una cuenta gratuita en la cual estamos limitados a 25 gráficas.\n",
    "\n",
    "Se usaron las siguientes intrucciones para configurar el Plotly."
   ]
  },
  {
   "cell_type": "code",
   "execution_count": null,
   "metadata": {},
   "outputs": [],
   "source": [
    "$ sudo pip install plotly \n",
    "import plotly \n",
    "plotly.tools.set_credentials_file(username='SamatarouKami', api_key='lr1c37zw81')"
   ]
  },
  {
   "cell_type": "markdown",
   "metadata": {},
   "source": [
    "Despues de esto importamos el .csv donde guardamos la información de la práctica 3 y "
   ]
  },
  {
   "cell_type": "markdown",
   "metadata": {},
   "source": [
    "<iframe id=\"igraph\" scrolling=\"no\" style=\"border:none;\" seamless=\"seamless\" src=\"https://plot.ly/~SamatarouKami/2.embed\" height=\"525px\" width=\"100%\"></iframe>"
   ]
  },
  {
   "cell_type": "code",
   "execution_count": null,
   "metadata": {},
   "outputs": [],
   "source": []
  }
 ],
 "metadata": {
  "kernelspec": {
   "display_name": "Python 3",
   "language": "python",
   "name": "python3"
  },
  "language_info": {
   "codemirror_mode": {
    "name": "ipython",
    "version": 2
   },
   "file_extension": ".py",
   "mimetype": "text/x-python",
   "name": "python",
   "nbconvert_exporter": "python",
   "pygments_lexer": "ipython2",
   "version": "2.7.15rc1"
  }
 },
 "nbformat": 4,
 "nbformat_minor": 2
}
