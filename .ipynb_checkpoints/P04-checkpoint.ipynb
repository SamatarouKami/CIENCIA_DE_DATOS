{
 "cells": [
  {
   "cell_type": "markdown",
   "metadata": {},
   "source": [
    "# Reporte de práctica 4: Visualización de información con plotly\n",
    "\n",
    "Plotly, también conocida por su URL, [Plot.ly](https://plot.ly/),es una empresa de computación técnica con sede en Montreal, Quebec, que desarrolla herramientas de visualización y análisis de datos en línea. Plotly proporciona herramientas de gráficos, análisis y estadísticas en línea para individuos y colaboración, así como bibliotecas de gráficos científicos para Python, R, MATLAB, Perl, Julia, Arduino y REST.\n",
    "\n",
    "## Objetivos\n",
    "\n",
    "    -Incluir al menos tres diferentes tipos de gráficas usando plotly e intenter concluir algo sobre los datos.\n",
    "    \n",
    "## Los datos\n",
    "\n",
    "Debido a que la base de datos con la que contamos se encuentra fragmentada en años, utilizaremos la que cuente con la información más completa."
   ]
  }
 ],
 "metadata": {
  "kernelspec": {
   "display_name": "Python 3",
   "language": "python",
   "name": "python3"
  },
  "language_info": {
   "codemirror_mode": {
    "name": "ipython",
    "version": 2
   },
   "file_extension": ".py",
   "mimetype": "text/x-python",
   "name": "python",
   "nbconvert_exporter": "python",
   "pygments_lexer": "ipython2",
   "version": "2.7.15rc1"
  }
 },
 "nbformat": 4,
 "nbformat_minor": 2
}
