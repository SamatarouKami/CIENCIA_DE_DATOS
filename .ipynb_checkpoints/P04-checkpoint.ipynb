{
 "cells": [
  {
   "cell_type": "markdown",
   "metadata": {},
   "source": [
    "# Reporte de práctica 4: Visualización de información con Plotly\n",
    "\n",
    "Plotly, también conocida por su URL, [Plot.ly](https://plot.ly/),es una empresa de computación técnica con sede en Montreal, Quebec, que desarrolla herramientas de visualización y análisis de datos en línea. Plotly proporciona herramientas de gráficos, análisis y estadísticas en línea para individuos y colaboración, así como bibliotecas de gráficos científicos para Python, R, MATLAB, Perl, Julia, Arduino y REST.\n",
    "\n",
    "## Objetivos\n",
    "\n",
    "    - Incluir al menos tres diferentes tipos de gráficas usando Plotly e intentar concluir algo sobre los datos.\n",
    "    \n",
    "## Los datos\n",
    "\n",
    "Debido a que la base de datos con la que contamos se encuentra fragmentada en años, se utilizarán los datos que cuente con la información más completa. \n",
    "\n",
    "### Importando datos"
   ]
  },
  {
   "cell_type": "code",
   "execution_count": 1,
   "metadata": {},
   "outputs": [
    {
     "name": "stdout",
     "output_type": "stream",
     "text": [
      "452\n"
     ]
    }
   ],
   "source": [
    "import pandas as pd\n",
    "df2018 = pd.read_excel('https://raw.githubusercontent.com/SamatarouKami/CIENCIA_DE_DATOS/master/2018.xlsx', index_col=None, header=0, sheet_name=0)\n",
    "df2018 = df2018[['Categoria','Edad','Pais', 'Titulo','Genero', 'Duracion', 'Marca','Referencia','Dias','Marcas','Personas']]\n",
    "\n",
    "print(len(df2018))"
   ]
  },
  {
   "cell_type": "markdown",
   "metadata": {},
   "source": [
    "## Gráficas\n",
    "\n",
    "Una vez cargada la información, se procede a graficar y verificar si se puede concluir algo relevante. \n",
    "\n",
    "### Extranjeros\n",
    "\n",
    "Se busca saber cual es la proporción de extranjeros que participan en el festival de acuerdo a su país de procedencia. \n",
    "Se retiran a los Colombianos de la lista de participantes para obtener solo extranjeros. Se realiza una categorización por país, luego se hace un conteo y graficamos."
   ]
  },
  {
   "cell_type": "code",
   "execution_count": 2,
   "metadata": {},
   "outputs": [
    {
     "data": {
      "text/html": [
       "<iframe id=\"igraph\" scrolling=\"no\" style=\"border:none;\" seamless=\"seamless\" src=\"https://plot.ly/~SamatarouKami/12.embed\" height=\"525px\" width=\"100%\"></iframe>"
      ],
      "text/plain": [
       "<plotly.tools.PlotlyDisplay object>"
      ]
     },
     "execution_count": 2,
     "metadata": {},
     "output_type": "execute_result"
    }
   ],
   "source": [
    "import plotly.plotly as py\n",
    "import plotly.figure_factory as ff\n",
    "import statsmodels.api as sm\n",
    "import numpy as np\n",
    "import plotly.graph_objs as go\n",
    "from numpy import isnan\n",
    "\n",
    "cine = df2018\n",
    "paises = cine['Pais'].unique()\n",
    "in1 = np.argwhere(paises=='Colombia')\n",
    "paises = np.delete(paises,in1)\n",
    "listaPaises = []\n",
    "for country in paises:\n",
    "    listaPaises.append([country,cine[cine['Pais']==country].count()['Pais']])\n",
    "dfpais = pd.DataFrame(data=listaPaises)\n",
    "dfpais.columns = ['Pais', 'Total']\n",
    "trace = go.Pie(labels=dfpais.Pais, values=dfpais.Total)\n",
    "py.iplot([trace], filename='P4_1')"
   ]
  },
  {
   "cell_type": "markdown",
   "metadata": {},
   "source": [
    "Se puede concluir que en el año 2018, la mayor parte de extranjeros procedía de España.\n",
    "\n",
    "### Marca de smartphones\n",
    "\n",
    "Ahora se comprueba los rangos de edades donde los participantes utilizan cierta marca de celular."
   ]
  },
  {
   "cell_type": "code",
   "execution_count": 3,
   "metadata": {},
   "outputs": [
    {
     "data": {
      "text/html": [
       "<iframe id=\"igraph\" scrolling=\"no\" style=\"border:none;\" seamless=\"seamless\" src=\"https://plot.ly/~SamatarouKami/16.embed\" height=\"525px\" width=\"100%\"></iframe>"
      ],
      "text/plain": [
       "<plotly.tools.PlotlyDisplay object>"
      ]
     },
     "execution_count": 3,
     "metadata": {},
     "output_type": "execute_result"
    }
   ],
   "source": [
    "datos = [go.Scatter(x = df2018.Marca, y = df2018.Edad, mode = 'markers')]\n",
    "py.iplot(datos, filename='P4_2')"
   ]
  },
  {
   "cell_type": "markdown",
   "metadata": {},
   "source": [
    "Se puede concluir que la mayoría de los concursantes utiliza smartphones de la marca Apple, Samsung y Huawei.\n",
    "\n",
    "### Género por categoría\n",
    "\n",
    "Ahora se verifica si hay alguna relación entre los géneros seleccionados y la categoría de participación."
   ]
  },
  {
   "cell_type": "code",
   "execution_count": 4,
   "metadata": {},
   "outputs": [
    {
     "data": {
      "text/html": [
       "<iframe id=\"igraph\" scrolling=\"no\" style=\"border:none;\" seamless=\"seamless\" src=\"https://plot.ly/~SamatarouKami/18.embed\" height=\"525px\" width=\"100%\"></iframe>"
      ],
      "text/plain": [
       "<plotly.tools.PlotlyDisplay object>"
      ]
     },
     "execution_count": 4,
     "metadata": {},
     "output_type": "execute_result"
    }
   ],
   "source": [
    "datos = [go.Scatter(x = df2018.Categoria, y = df2018.Genero, mode = 'markers')]\n",
    "py.iplot(datos, filename='P4_3')"
   ]
  },
  {
   "cell_type": "markdown",
   "metadata": {},
   "source": [
    "Se puede concluir en los géneros de Ficción, Comedia, Drama, Acción y Documental existen participantes de todas las categorías, excepto Crónicas que parece ser un género únicamente relacionado con la categoría.\n",
    "\n",
    "# Conclusión\n",
    "\n",
    "En esta práctica pude aprender a utilizar la plataforma de Plotly. Se pudo determinar tres cualidades sobre nuestros datos simplemente graficando la información.\n",
    "\n",
    "--04 de junio 2019-- Luis Angel Gutiérrez Rodríguez 1484412"
   ]
  }
 ],
 "metadata": {
  "kernelspec": {
   "display_name": "Python 3",
   "language": "python",
   "name": "python3"
  },
  "language_info": {
   "codemirror_mode": {
    "name": "ipython",
    "version": 2
   },
   "file_extension": ".py",
   "mimetype": "text/x-python",
   "name": "python",
   "nbconvert_exporter": "python",
   "pygments_lexer": "ipython2",
   "version": "2.7.15rc1"
  }
 },
 "nbformat": 4,
 "nbformat_minor": 2
}
