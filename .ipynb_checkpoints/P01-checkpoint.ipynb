{
 "cells": [
  {
   "cell_type": "markdown",
   "metadata": {},
   "source": [
    "# Reporte de práctica 1: Preparación de los datos "
   ]
  },
  {
   "cell_type": "markdown",
   "metadata": {},
   "source": [
    "## Origen de los datos\n",
    "Los datos a analizar durante el curso fueron proporcionados por la Dra. Elisa y son de un festival de cine que se lleva a cabo anualmente en Colombia y se está empezando a difundir la idea en México. \n",
    "Se cuenta con la información de las boletas de inscripción al festival de los años 2015 al 2018. La información capturada varía y aumenta de acuerdo al año de su captura, es decir, la información de 2018 contiene más datos que la de 2015. \n",
    "A causa del crecimiento de la información cada año, la limpieza de los mismos me dejará con muchas celdas vacías.\n",
    "\n",
    "Las preguntas con las que se pudiera trabajar serían:\n",
    "\n",
    "* ¿Cuáles son los teléfonos móviles que se utilizan más los productores de acuerdo a la categoría que pertenecen?\n",
    "* ¿Cuál es el género que más producciones tiene?\n",
    "* ¿Cuál fue el medio más efectivo por el que la mayoría de los concursantes se enteraron del festival?\n",
    "* ¿Cuáles son los países extranjeros más activos en el festival, en que categorías participan y que géneros prefieren?"
   ]
  },
  {
   "cell_type": "markdown",
   "metadata": {},
   "source": [
    "## Datos disponibles\n",
    "Como los datos disponibles varían con cada año, buscaré describir los datos por cada archivo y posteriormente buscaremos el común de estos.\n",
    "\n",
    "### Año 2015\n",
    "El primer año del que se tiene registro. En este festival solo se contaba con los siguientes 8 datos:\n",
    "* País: País de procedencia de la producción.\n",
    "* Categoría: Si el video es producido por infantiles, profesionales ó aficionados.\n",
    "* Nombre del corto.\n",
    "* Medio de envío: El método por el cual la producción del corto hizo llegar el video al festival.\n",
    "* Género: Categoría en la que el productor clasificó su cortometraje.\n",
    "* Imágenes: Incomprensible que clase de información querían obtener. En la mayoría de los casos está vacío este campo, en otros dice \"video\". \n",
    "* Referencia Celular: el dispositivo móvil con el que se grabó el cortometraje.\n",
    "* Sinopsis: Una breve sinopsis del cortometraje. Habrá que revisar si tiene un límite de caracteres.\n",
    "\n",
    "### Año 2016\n",
    "En este año la información fue clasificada en diferentes hojas de cálculo de acuerdo a la categoría de los participantes, además se agregaron 2 categorías, Juvenil y SmarTIC, donde al parecer los de SmarTIC presentan algún tipo de discapacidad. Los datos capturados son los siguientes:\n",
    "* ID: Supongo que el número de registro. No se cuentan con todos los ID consecutivos.\n",
    "* Cómo se enteró\n",
    "* Nombre del corto\n",
    "* Género\n",
    "* Sinopsis\n",
    "* País\n",
    "* Ciudad: Cuenta con muchos espacios vacíos, si el participante no es de Colombia se deja vacío. \n",
    "* Departamento: Es como el concepto de estado en México.\n",
    "* Referencia celular\n",
    "\n",
    "### Año 2017\n",
    "En este año se agregó una categoría llamada \"Reto al guion\" la cual contiene muy poca información y no es compatible con la información proporcionada por las demás categorías, será descartada. A partir ahora obtenemos información del que registro el cortometraje, pero también se agrega una mini encuesta de SI/NO al final de la forma de inscripción. También se decidió categorizar los Celulares utilizados, agregando dos elementos a la clasificación: \"Tipo de dispositivo\" y \"marca\". Los datos capturados son:\n",
    "* ID.\n",
    "* Cómo se enteró\n",
    "* Sexo\n",
    "* Edad\n",
    "* Colombiano: Me imagino que es otra forma de decir el país de procedencia.\n",
    "* Departamento: En la cual se capturó la ciudad.\n",
    "* (Campo vacío): En el cual se capturó el departamento.  \n",
    "* Nombre del corto\n",
    "* Género\n",
    "* Sinopsis\n",
    "* (Campo vacío): En el cual se repite el valor guardado en Departamento.\n",
    "* (Campo vacío): En el cual se repite el departamento.\n",
    "* Tipo de dispositivo\n",
    "* Marca: del celular\n",
    "* Referencia: cual celular usó.\n",
    "\n",
    "\n",
    "* Campaña publicitaria. *A partir de aquí empieza la mini encuesta*\n",
    "* making of: Si cuenta con detrás de cámaras.\n",
    "* documental: Es tipo documental?. Lo cual considero innecesario ya que Documental es un género de cortometrajes.\n",
    "* infantil: Además de que es una categoría de participantes, también es un género de cortometrajes. No entiendo la existencia de este campo.\n",
    "* afiche: Según Google, es otra forma de decir cartel o póster. Me imagino que si tuvo campaña publicitaria debe tener póster.\n",
    "* Cantidad de personas que realizaron el corto. Yo creo que es un campo muy ambiguo, ya que puede que la persona que realizó el corto sea solo una, pero en él participaron más de una. Como esta lleno este campo parece acertado que se refiera a las personas que participaron y no que lo realizaron.\n",
    "\n",
    "### Año 2018\n",
    "En este año tenemos los datos de dos países, Colombia y México.\n",
    "\n",
    "#### Colombia\n",
    "Para este año tenemos los datos concentrados y no en diferentes hojas de cálculo. Los datos son los siguientes:\n",
    "* Carpeta: Una cadena de caracteres, parecen cifrados.\n",
    "* Categoría\n",
    "* ¿Como se enteró?\n",
    "* Edad Participante\n",
    "* Colombiano\n",
    "* País\n",
    "* Departamento\n",
    "* Ciudad\n",
    "* Nombre Corto\n",
    "* Género Corto\n",
    "* Duración: Tal parece que en segundos, por la magnitud de las cifras, pero algunos son tan pequeños que pudieron haberlo puesto en minutos.\n",
    "* Sinopsis\n",
    "* País del corto: decidieron categorizar el cortometraje.\n",
    "* Departamento del corto\n",
    "* Ciudad corto\n",
    "* Tipo de dispositivo\n",
    "* Marca Dispositivo\n",
    "* Referencia Dispositivo\n",
    "* Otro dispositivo: Se abre la posibilidad de usar más de un dispositivo, antes se usaba una barra para dividir diferentes dispositivos pero ahora se pueden poner en dos campos diferentes.\n",
    "* Corto Días: tiempo de producción.\n",
    "* Corto Marcas: No tengo ni idea que signifique esto.\n",
    "* Personas\n",
    "* Discapacidad: Debido a que se concentraron los datos, en la misma lista están los de SmarTIC y ellos tienen discapacidad, los demás no.\n",
    "\n",
    "#### México\n",
    "Se realizó un festival en México con la misma mecánica que en Colombia y aquí se almacenaron los siguientes datos:\n",
    "* Categoría: Parece ser que no se les explicó a los participantes que la categoría era donde iban a inscribir su cortometraje, no el género del mismo. \n",
    "* Edad participante\n",
    "* País participante\n",
    "* Departamento participante\n",
    "* Ciudad participante\n",
    "* Nombre de Corto\n",
    "* Género\n",
    "* Sinopsis\n",
    "* País\n",
    "* Departamento\n",
    "* Ciudad\n",
    "* Tipo de dispositivo\n",
    "* Marca de dispositivo\n",
    "* Referencia dispositivo\n",
    "* Días\n",
    "* Personas"
   ]
  },
  {
   "cell_type": "markdown",
   "metadata": {},
   "source": [
    "## Preprocesamiento\n",
    "Los datos me fueron proporcionados en documentos .xlsx (extensión de Office Excel 2013 o superior), al momento de procesarlo en bash, la información proyectada era incomprensible. Googleando un poco, encontré el método para convertir el .xlsx a .csv y tratar la información.\n",
    "\n",
    "Primero instalé el GNUmeric"
   ]
  },
  {
   "cell_type": "code",
   "execution_count": null,
   "metadata": {},
   "outputs": [],
   "source": [
    "$ sudo apt-get gnumeric"
   ]
  },
  {
   "cell_type": "markdown",
   "metadata": {},
   "source": [
    "Después pasé a la conversión de los documentos."
   ]
  },
  {
   "cell_type": "code",
   "execution_count": null,
   "metadata": {},
   "outputs": [],
   "source": [
    "$ ssconvert 2015.xlsx 2015.csv\n",
    "$ ssconvert 2016.xlsx 2016.csv\n",
    "$ ssconvert 2017.xlsx 2017.csv\n",
    "$ ssconvert 2018.xlsx 2018.csv\n",
    "$ ssconvert 2018mx.xlsx 2018mx.csv"
   ]
  },
  {
   "cell_type": "markdown",
   "metadata": {},
   "source": [
    "Al final los archivos ya eran tratables en bash.\n",
    "Para trabajar con los archivos me tope con que estaban muy sucios los datos, debido a la conversión, por eso modifique los parámetros del convertidor y agregue la siguiente instrucción a cada uno."
   ]
  },
  {
   "cell_type": "code",
   "execution_count": null,
   "metadata": {},
   "outputs": [],
   "source": [
    "--export-options=\"separator=¡\""
   ]
  },
  {
   "cell_type": "markdown",
   "metadata": {},
   "source": [
    "Decidí usar el separador \"¡\" debido a que las comas, y otros símbolos eran utilizados en títulos de los cortos o en las sinopsis de los cortos. Consideré que era el signo que menos se utilizaba. Al final usé el comando *awk* para obtener la información de cada archivo. Además cambie la extensión de salida a .txt\n",
    "\n",
    "Las columnas que utilicé y que consideré en común fueron:\n",
    "* Año (Columna agregada)\n",
    "* Categoría\n",
    "* País\n",
    "* Género\n",
    "* ¿Cómo se enteró?\n",
    "* Referencia celular\n",
    "\n",
    "Los datos requieren limpiarse aún más, ya que al usar el comando:"
   ]
  },
  {
   "cell_type": "code",
   "execution_count": null,
   "metadata": {},
   "outputs": [],
   "source": [
    "awk -F '¡'  {' if(NF > 15)  print $2'} 2015.txt | sort | uniq -c"
   ]
  },
  {
   "cell_type": "markdown",
   "metadata": {},
   "source": [
    "      8 \n",
    "    309 Aficionado\n",
    "      1 Categoría\n",
    "     73 Infantil\n",
    "    143 Profesional\n",
    "aún me arroja espacios vacíos."
   ]
  },
  {
   "cell_type": "markdown",
   "metadata": {},
   "source": [
    "## Conclusiones\n",
    "En esta practica pude aprender a utilizar la plataforma de Jupyter Notebook, el bash de linux y a convertir archivos desde terminar. A pesar del preprocesamiento realizado, creo que tengo que buscar otro símbolo para realizar la separación de columnas. La información obtenida en el año 2015 es prácticamente el cuello de botella de la información que podría procesar.\n",
    "\n",
    "--28 de enero 2019--\n",
    "Luis Angel Gutiérrez Rodríguez 1484412"
   ]
  }
 ],
 "metadata": {
  "kernelspec": {
   "display_name": "Python 3",
   "language": "python",
   "name": "python3"
  },
  "language_info": {
   "codemirror_mode": {
    "name": "ipython",
    "version": 3
   },
   "file_extension": ".py",
   "mimetype": "text/x-python",
   "name": "python",
   "nbconvert_exporter": "python",
   "pygments_lexer": "ipython3",
   "version": "3.6.7"
  }
 },
 "nbformat": 4,
 "nbformat_minor": 2
}
