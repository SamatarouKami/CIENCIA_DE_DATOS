{
 "cells": [
  {
   "cell_type": "markdown",
   "metadata": {},
   "source": [
    "# Reporte de práctica 5: Pruebas estadísticas\n",
    "\n",
    "\n",
    "## Objetivo \n",
    "\n",
    "- Realizar tres análisis estadísticos a los datos del cine. Primero realizaremos histogramas de la información para observar su comportamiento si es normalizado o no.\n",
    "\n",
    "\n",
    "## Pruebas estadísticas\n",
    "\n",
    "Existen dos grandes grupos de pruebas de significación estadística, las paramétricas y las no paramétricas\n",
    "\n",
    "\n",
    "#### Pruebas paramétricas\n",
    "Las pruebas paramétricas son para datos numéricos (escalas de intervalos o razones) y , por lo general, están basadas en las propiedades de la distribución normal o gaussiana, para la variable dependiente. Los requisitos para poder usar estas pruebas son:\n",
    "\n",
    "    - Las observaciones deben ser independientes entre sí.\n",
    "    - Las poblaciones deben hacerse en poblaciones distribuidas normalmente.\n",
    "    - Estas poblaciones deben tener la misma varianza.\n",
    "    - Las variables deben haberse medido por lo menos en una escala de intervalo de manera que sea posible utilizar las operaciones aritméticas.\n",
    "\n",
    "\n",
    "#### Pruebas no paramétricas\n",
    "Las pruebas no paramétricas son utilizadas con variables nominales y ordinales, no asumen un tipo particular de distribución, se aceptan distribuciones no normales, la exigencia en cuanto al tamaño de la muestra es menor que en el caso de las paramétricas.\n",
    "\n",
    "Las pruebas no paramétricas son necesarias cuando:\n",
    "\n",
    "    - Los tamaños de las muestras son tan pequeñas como N=6\n",
    "    - La investigación aporta resultados que solo se puedan referir a un comportamiento de los sujetos en mayor o menor grado de ciertas características, pero sin especificar cantidad.\n",
    "\n",
    "### Lectura de Datos\n",
    "\n",
    "Como se harán gráficas de los datos, se instaló la librería Plotly de python3 para hacer esta tarea, debido a que es una librería de pago, se creó una cuenta gratuita en la cual estamos limitados a veinticinco gráficas."
   ]
  },
  {
   "cell_type": "code",
   "execution_count": 1,
   "metadata": {},
   "outputs": [],
   "source": [
    "import plotly.plotly as py\n",
    "import plotly.graph_objs as go\n",
    "import pandas as pd\n",
    "import pandas as pd\n",
    "cine = pd.read_excel('2018.xlsx', index_col=None, header=0, sheet_name=0)\n",
    "cine = cine[['Categoria','Edad','Pais', 'Titulo','Genero', 'Duracion', 'Marca','Referencia','Dias','Marcas','Personas']]"
   ]
  },
  {
   "cell_type": "markdown",
   "metadata": {},
   "source": [
    "### Sincronizar con Plotly\n",
    "\n",
    "Agregaremos los datos de usuario y la llave api para poder graficar con Plotly."
   ]
  },
  {
   "cell_type": "code",
   "execution_count": 2,
   "metadata": {},
   "outputs": [],
   "source": [
    "import plotly\n",
    "plotly.tools.set_credentials_file(username='SamatarouKami', api_key='X0OGa3VP5G6DWcfBivYa')"
   ]
  },
  {
   "cell_type": "markdown",
   "metadata": {},
   "source": [
    "## Características de los datos\n",
    "\n",
    "Se quiere comprobar si los datos de Edad y Personas que participan en un proyecto están normalmente distribuidos. Se determina que clase de pruebas se deben realizar sobre estos. Primero que nada haremos pruebas de normalidad, graficaremos el histograma de los datos."
   ]
  },
  {
   "cell_type": "code",
   "execution_count": 3,
   "metadata": {},
   "outputs": [
    {
     "data": {
      "text/html": [
       "<iframe id=\"igraph\" scrolling=\"no\" style=\"border:none;\" seamless=\"seamless\" src=\"https://plot.ly/~SamatarouKami/20.embed\" height=\"525px\" width=\"100%\"></iframe>"
      ],
      "text/plain": [
       "<plotly.tools.PlotlyDisplay object>"
      ]
     },
     "execution_count": 3,
     "metadata": {},
     "output_type": "execute_result"
    }
   ],
   "source": [
    "layout = {'xaxis': {'range': [12, 59]}}\n",
    "py.iplot({'data': [go.Histogram(x = cine.Edad, histnorm='probability')], 'layout': layout}, filename='P5_1')"
   ]
  },
  {
   "cell_type": "code",
   "execution_count": 4,
   "metadata": {},
   "outputs": [
    {
     "data": {
      "text/html": [
       "<iframe id=\"igraph\" scrolling=\"no\" style=\"border:none;\" seamless=\"seamless\" src=\"https://plot.ly/~SamatarouKami/22.embed\" height=\"525px\" width=\"100%\"></iframe>"
      ],
      "text/plain": [
       "<plotly.tools.PlotlyDisplay object>"
      ]
     },
     "execution_count": 4,
     "metadata": {},
     "output_type": "execute_result"
    }
   ],
   "source": [
    "layout = {'xaxis': {'range': [0, 71]}}\n",
    "py.iplot({'data': [go.Histogram(x = cine.Personas, histnorm='probability')], 'layout': layout}, filename='P5_2')"
   ]
  },
  {
   "cell_type": "markdown",
   "metadata": {},
   "source": [
    "Como se observa en el histograma, la edad parece estar normalmente distribuida y las personas por film se encuentran en sesgo, se puede identificar una asimetría a la derecha.\n",
    "\n",
    "Ahora se prueba con QQplot si los datos son normalmente distribuidos."
   ]
  },
  {
   "cell_type": "code",
   "execution_count": 12,
   "metadata": {},
   "outputs": [
    {
     "data": {
      "image/png": "[encoded data removed]",
      "text/plain": [
       "<Figure size 432x288 with 1 Axes>"
      ]
     },
     "metadata": {
      "needs_background": "light"
     },
     "output_type": "display_data"
    }
   ],
   "source": [
    "import pandas as pd\n",
    "from statsmodels.graphics.gofplots import qqplot\n",
    "import matplotlib.pyplot as plt\n",
    "g = qqplot(cine.Edad, line='s')"
   ]
  },
  {
   "cell_type": "code",
   "execution_count": 6,
   "metadata": {},
   "outputs": [
    {
     "data": {
      "image/png": "[encoded data removed]",
      "text/plain": [
       "<Figure size 432x288 with 1 Axes>"
      ]
     },
     "metadata": {
      "needs_background": "light"
     },
     "output_type": "display_data"
    }
   ],
   "source": [
    "y = qqplot(cine.Personas, line='s')"
   ]
  },
  {
   "cell_type": "markdown",
   "metadata": {},
   "source": [
    "Se tiene que los histogramas no son suficientes para determinar la normalidad de las Edades. En el grafico de Personas sabemos que no está normalizado. Los resultados de QQplot son curiosos porque pareciera que ambas distribuciones están normalizadas. \n",
    "\n",
    "Para confirmar la naturaleza de los datos aplicaremos la prueba de normalidad Shapiro-Wilks."
   ]
  },
  {
   "cell_type": "code",
   "execution_count": 7,
   "metadata": {},
   "outputs": [
    {
     "name": "stdout",
     "output_type": "stream",
     "text": [
      "Edad 0.94 0.000\n",
      "('no parece ser normal con nivel de significancia', 0.05)\n",
      "Participantes 0.76 0.000\n",
      "('no parece ser normal con nivel de significancia', 0.05)\n",
      "Edad 0.94 0.000\n",
      "('no parece ser normal con nivel de significancia', 0.01)\n",
      "Participantes 0.76 0.000\n",
      "('no parece ser normal con nivel de significancia', 0.01)\n"
     ]
    }
   ],
   "source": [
    "from numpy import concatenate, isnan\n",
    "\n",
    "datos = {'Edad': cine.Edad , \\\n",
    "         'Participantes': cine.Personas}\n",
    "from scipy.stats import shapiro\n",
    "for alpha in [0.05, 0.01]:\n",
    "    for data in datos:\n",
    "        crudos = datos[data]\n",
    "        s, p = shapiro(crudos[~isnan(crudos)]) # es MUY importante quitar los NaN\n",
    "        print('{:s} {:.2f} {:.3f}'.format(data, s, p))\n",
    "        if p > alpha:\n",
    "            print('aceptablemente normal con nivel de significancia', alpha)\n",
    "        else:\n",
    "            print('no parece ser normal con nivel de significancia', alpha)"
   ]
  },
  {
   "cell_type": "markdown",
   "metadata": {},
   "source": [
    "### Naturaleza de los datos\n",
    "\n",
    "Con el histograma y la prueba Shapiro-Wilks, determinamos que la naturaleza de los datos es no paramétrica. Por esto se aplican pruebas de este tipo a los datos.\n",
    "\n",
    "\n",
    "## Pruebas estadísticas no paramétricas\n",
    "\n",
    "Las pruebas que se realizan sobre los datos son:\n",
    "\n",
    "    Mann-Whitney\n",
    "    Wilcoxon\n",
    "    Kruskal-Wallis\n",
    "    \n",
    "Se propone la hipótesis de que los jóvenes forman grupos para poder grabar los filmes y se registran como grupo. Se realizan las tres pruebas sobre esta misma hipótesis. Se preparan las funciones para realizar las pruebas."
   ]
  },
  {
   "cell_type": "code",
   "execution_count": 8,
   "metadata": {},
   "outputs": [],
   "source": [
    "from numpy import isnan\n",
    "from scipy.stats import mannwhitneyu\n",
    "from scipy.stats import wilcoxon\n",
    "from scipy.stats import kruskal\n",
    "\n",
    "def MannWhitney(c1, c2):\n",
    "    d1 = c1[~isnan(c1)]\n",
    "    d2 = c2[~isnan(c2)]\n",
    "    n1 = len(d1)\n",
    "    n2 = len(d2)\n",
    "    if min(n1, n2) < 20:\n",
    "        print('hay muy pocos datos como para obtener un resultado confiable')\n",
    "        return\n",
    "    for alpha in [0.05, 0.01]:\n",
    "        s, p = mannwhitneyu(d1, d2)\n",
    "        print('{:d} {:d} {:.2f} {:.3f}'.format(n1, n2, s, p))\n",
    "        if p > alpha:\n",
    "            print('son igualmente distribuidos con nivel de significancia', alpha)\n",
    "        else:\n",
    "            print('se ven diferentemente distribuidos con nivel de significancia', alpha)\n",
    "            \n",
    "            \n",
    "def Wilcoxon(c1, c2):\n",
    "    d1 = c1[~isnan(c1)]\n",
    "    d2 = c2[~isnan(c2)]\n",
    "    n1 = len(d1)\n",
    "    n2 = len(d2)\n",
    "    if min(n1, n2) < 20:\n",
    "        print('hay muy pocos datos como para obtener un resultado confiable')\n",
    "        return\n",
    "    for alpha in [0.05, 0.01]:\n",
    "        s, p = wilcoxon(d1, d2)\n",
    "        print('{:d} {:d} {:.2f} {:.3f}'.format(n1, n2, s, p))\n",
    "        if p > alpha:\n",
    "            print('son igualmente distribuidos con nivel de significancia', alpha)\n",
    "        else:\n",
    "            print('se ven diferentemente distribuidos con nivel de significancia', alpha)\n",
    "            \n",
    "            \n",
    "def KruskalWallis(c1, c2):\n",
    "    d1 = c1[~isnan(c1)]\n",
    "    d2 = c2[~isnan(c2)]\n",
    "    n1 = len(d1)\n",
    "    n2 = len(d2)\n",
    "    if min(n1, n2) < 20:\n",
    "        print('hay muy pocos datos como para obtener un resultado confiable')\n",
    "        return\n",
    "    for alpha in [0.05, 0.01]:\n",
    "        s, p = kruskal(d1, d2)\n",
    "        print('{:d} {:d} {:.2f} {:.3f}'.format(n1, n2, s, p))\n",
    "        if p > alpha:\n",
    "            print('son igualmente distribuidos con nivel de significancia', alpha)\n",
    "        else:\n",
    "            print('se ven diferentemente distribuidos con nivel de significancia', alpha)            "
   ]
  },
  {
   "cell_type": "code",
   "execution_count": 9,
   "metadata": {},
   "outputs": [
    {
     "name": "stdout",
     "output_type": "stream",
     "text": [
      "452 452 7679.00 0.000\n",
      "('se ven diferentemente distribuidos con nivel de significancia', 0.05)\n",
      "452 452 7679.00 0.000\n",
      "('se ven diferentemente distribuidos con nivel de significancia', 0.01)\n"
     ]
    }
   ],
   "source": [
    "MannWhitney(cine.Edad, cine.Personas)"
   ]
  },
  {
   "cell_type": "code",
   "execution_count": 10,
   "metadata": {},
   "outputs": [
    {
     "name": "stdout",
     "output_type": "stream",
     "text": [
      "452 452 1949.50 0.000\n",
      "('se ven diferentemente distribuidos con nivel de significancia', 0.05)\n",
      "452 452 1949.50 0.000\n",
      "('se ven diferentemente distribuidos con nivel de significancia', 0.01)\n"
     ]
    }
   ],
   "source": [
    "Wilcoxon(cine.Edad, cine.Personas)"
   ]
  },
  {
   "cell_type": "code",
   "execution_count": 11,
   "metadata": {},
   "outputs": [
    {
     "name": "stdout",
     "output_type": "stream",
     "text": [
      "452 452 579.81 0.000\n",
      "('se ven diferentemente distribuidos con nivel de significancia', 0.05)\n",
      "452 452 579.81 0.000\n",
      "('se ven diferentemente distribuidos con nivel de significancia', 0.01)\n"
     ]
    }
   ],
   "source": [
    "KruskalWallis(cine.Edad, cine.Personas)"
   ]
  },
  {
   "cell_type": "markdown",
   "metadata": {},
   "source": [
    "# Conclusiones\n",
    "A pesar de que la los datos de las edades parecen distribuidos normalmente, al realizar pruebas de normalidad se pudo comprobar que los datos no están normalizados. Por este motivo se realizaron pruebas no paramétricas para comprobar la relación de los datos. Se buscó demostrar la hipótesis de que los jóvenes se agrupan para participar. Quedando demostrado por tres diferentes pruebas que no hay relación.\n",
    "\n",
    "--04 de junio 2019-- Luis Angel Gutiérrez Rodríguez 1484412"
   ]
  }
 ],
 "metadata": {
  "kernelspec": {
   "display_name": "Python 3",
   "language": "python",
   "name": "python3"
  },
  "language_info": {
   "codemirror_mode": {
    "name": "ipython",
    "version": 2
   },
   "file_extension": ".py",
   "mimetype": "text/x-python",
   "name": "python",
   "nbconvert_exporter": "python",
   "pygments_lexer": "ipython2",
   "version": "2.7.15rc1"
  }
 },
 "nbformat": 4,
 "nbformat_minor": 2
}
